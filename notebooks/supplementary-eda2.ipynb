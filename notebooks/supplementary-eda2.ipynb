{
 "cells": [
  {
   "cell_type": "code",
   "execution_count": 1,
   "id": "1a718b67-08fc-4ae3-9a15-2ed6b94afdef",
   "metadata": {
    "execution": {
     "iopub.execute_input": "2023-06-02T00:58:33.422316Z",
     "iopub.status.busy": "2023-06-02T00:58:33.421988Z",
     "iopub.status.idle": "2023-06-02T00:59:02.127866Z",
     "shell.execute_reply": "2023-06-02T00:59:02.126877Z",
     "shell.execute_reply.started": "2023-06-02T00:58:33.422283Z"
    },
    "tags": []
   },
   "outputs": [
    {
     "data": {
      "application/vnd.jupyter.widget-view+json": {
       "model_id": "45a769e925e2478abaa1039778179c5a",
       "version_major": 2,
       "version_minor": 0
      },
      "text/plain": [
       "VBox()"
      ]
     },
     "metadata": {},
     "output_type": "display_data"
    },
    {
     "name": "stdout",
     "output_type": "stream",
     "text": [
      "Starting Spark application\n"
     ]
    },
    {
     "data": {
      "text/html": [
       "<table>\n",
       "<tbody><tr><th>ID</th><th>YARN Application ID</th><th>Kind</th><th>State</th><th>Spark UI</th><th>Driver log</th><th>User</th><th>Current session?</th></tr><tr><td>12</td><td>application_1685607180068_0013</td><td>pyspark</td><td>idle</td><td><a target=\"_blank\" href=\"http://ip-172-31-37-79.ec2.internal:20888/proxy/application_1685607180068_0013/\" class=\"emr-proxy-link j-3SENPBVD645VS application_1685607180068_0013\" emr-resource=\"j-3SENPBVD645VS\n",
       "\" application-id=\"application_1685607180068_0013\">Link</a></td><td><a target=\"_blank\" href=\"http://ip-172-31-45-143.ec2.internal:8042/node/containerlogs/container_1685607180068_0013_01_000001/livy\">Link</a></td><td>None</td><td>✔</td></tr></tbody></table>"
      ],
      "text/plain": [
       "<IPython.core.display.HTML object>"
      ]
     },
     "metadata": {},
     "output_type": "display_data"
    },
    {
     "data": {
      "application/vnd.jupyter.widget-view+json": {
       "model_id": "",
       "version_major": 2,
       "version_minor": 0
      },
      "text/plain": [
       "FloatProgress(value=0.0, bar_style='info', description='Progress:', layout=Layout(height='25px', width='50%'),…"
      ]
     },
     "metadata": {},
     "output_type": "display_data"
    },
    {
     "name": "stdout",
     "output_type": "stream",
     "text": [
      "SparkSession available as 'spark'.\n"
     ]
    },
    {
     "data": {
      "application/vnd.jupyter.widget-view+json": {
       "model_id": "",
       "version_major": 2,
       "version_minor": 0
      },
      "text/plain": [
       "FloatProgress(value=0.0, bar_style='info', description='Progress:', layout=Layout(height='25px', width='50%'),…"
      ]
     },
     "metadata": {},
     "output_type": "display_data"
    }
   ],
   "source": [
    "#"
   ]
  },
  {
   "cell_type": "code",
   "execution_count": 2,
   "id": "e72405fd-d7ba-4d4b-a357-9bbde254cfd3",
   "metadata": {
    "execution": {
     "iopub.execute_input": "2023-06-02T00:59:02.130091Z",
     "iopub.status.busy": "2023-06-02T00:59:02.129491Z",
     "iopub.status.idle": "2023-06-02T00:59:41.514728Z",
     "shell.execute_reply": "2023-06-02T00:59:41.513900Z",
     "shell.execute_reply.started": "2023-06-02T00:59:02.130053Z"
    },
    "tags": []
   },
   "outputs": [
    {
     "data": {
      "application/vnd.jupyter.widget-view+json": {
       "model_id": "559e096586a54cefb7bf3b2063505f24",
       "version_major": 2,
       "version_minor": 0
      },
      "text/plain": [
       "VBox()"
      ]
     },
     "metadata": {},
     "output_type": "display_data"
    },
    {
     "data": {
      "application/vnd.jupyter.widget-view+json": {
       "model_id": "",
       "version_major": 2,
       "version_minor": 0
      },
      "text/plain": [
       "FloatProgress(value=0.0, bar_style='info', description='Progress:', layout=Layout(height='25px', width='50%'),…"
      ]
     },
     "metadata": {},
     "output_type": "display_data"
    },
    {
     "name": "stdout",
     "output_type": "stream",
     "text": [
      "Collecting pandas\n",
      "  Downloading pandas-1.3.5-cp37-cp37m-manylinux_2_17_x86_64.manylinux2014_x86_64.whl (11.3 MB)\n",
      "Collecting python-dateutil>=2.7.3\n",
      "  Downloading python_dateutil-2.8.2-py2.py3-none-any.whl (247 kB)\n",
      "Requirement already satisfied: numpy>=1.17.3; platform_machine != \"aarch64\" and platform_machine != \"arm64\" and python_version < \"3.10\" in /usr/local/lib64/python3.7/site-packages (from pandas) (1.20.0)\n",
      "Requirement already satisfied: pytz>=2017.3 in /usr/local/lib/python3.7/site-packages (from pandas) (2022.7)\n",
      "Requirement already satisfied: six>=1.5 in /usr/local/lib/python3.7/site-packages (from python-dateutil>=2.7.3->pandas) (1.13.0)\n",
      "Installing collected packages: python-dateutil, pandas\n",
      "Successfully installed pandas-1.3.5 python-dateutil-2.8.2\n",
      "\n",
      "Collecting matplotlib\n",
      "  Downloading matplotlib-3.5.3-cp37-cp37m-manylinux_2_5_x86_64.manylinux1_x86_64.whl (11.2 MB)\n",
      "Requirement already satisfied: numpy>=1.17 in /usr/local/lib64/python3.7/site-packages (from matplotlib) (1.20.0)\n",
      "Collecting packaging>=20.0\n",
      "  Downloading packaging-23.1-py3-none-any.whl (48 kB)\n",
      "Requirement already satisfied: python-dateutil>=2.7 in ./tmp/1685667538867-0/lib/python3.7/site-packages (from matplotlib) (2.8.2)\n",
      "Collecting pyparsing>=2.2.1\n",
      "  Downloading pyparsing-3.0.9-py3-none-any.whl (98 kB)\n",
      "Collecting cycler>=0.10\n",
      "  Downloading cycler-0.11.0-py3-none-any.whl (6.4 kB)\n",
      "Collecting kiwisolver>=1.0.1\n",
      "  Downloading kiwisolver-1.4.4-cp37-cp37m-manylinux_2_5_x86_64.manylinux1_x86_64.whl (1.1 MB)\n",
      "Collecting pillow>=6.2.0\n",
      "  Downloading Pillow-9.5.0-cp37-cp37m-manylinux_2_17_x86_64.manylinux2014_x86_64.whl (3.3 MB)\n",
      "Collecting fonttools>=4.22.0\n",
      "  Downloading fonttools-4.38.0-py3-none-any.whl (965 kB)\n",
      "Requirement already satisfied: six>=1.5 in /usr/local/lib/python3.7/site-packages (from python-dateutil>=2.7->matplotlib) (1.13.0)\n",
      "Collecting typing-extensions; python_version < \"3.8\"\n",
      "  Downloading typing_extensions-4.6.3-py3-none-any.whl (31 kB)\n",
      "Installing collected packages: packaging, pyparsing, cycler, typing-extensions, kiwisolver, pillow, fonttools, matplotlib\n",
      "Successfully installed cycler-0.11.0 fonttools-4.38.0 kiwisolver-1.4.4 matplotlib-3.5.3 packaging-23.1 pillow-9.5.0 pyparsing-3.0.9 typing-extensions-4.6.3\n",
      "\n",
      "Collecting fsspec\n",
      "  Downloading fsspec-2023.1.0-py3-none-any.whl (143 kB)\n",
      "Installing collected packages: fsspec\n",
      "Successfully installed fsspec-2023.1.0\n",
      "\n",
      "Collecting s3fs\n",
      "  Downloading s3fs-2023.1.0-py3-none-any.whl (27 kB)\n",
      "Collecting aiohttp!=4.0.0a0,!=4.0.0a1\n",
      "  Downloading aiohttp-3.8.4-cp37-cp37m-manylinux_2_17_x86_64.manylinux2014_x86_64.whl (948 kB)\n",
      "Collecting aiobotocore~=2.4.2\n",
      "  Downloading aiobotocore-2.4.2-py3-none-any.whl (66 kB)\n",
      "Requirement already satisfied: fsspec==2023.1.0 in ./tmp/1685667538867-0/lib/python3.7/site-packages (from s3fs) (2023.1.0)\n",
      "Requirement already satisfied: typing-extensions>=3.7.4; python_version < \"3.8\" in ./tmp/1685667538867-0/lib/python3.7/site-packages (from aiohttp!=4.0.0a0,!=4.0.0a1->s3fs) (4.6.3)\n",
      "Collecting aiosignal>=1.1.2\n",
      "  Downloading aiosignal-1.3.1-py3-none-any.whl (7.6 kB)\n",
      "Collecting frozenlist>=1.1.1\n",
      "  Downloading frozenlist-1.3.3-cp37-cp37m-manylinux_2_5_x86_64.manylinux1_x86_64.manylinux_2_17_x86_64.manylinux2014_x86_64.whl (148 kB)\n",
      "Collecting async-timeout<5.0,>=4.0.0a3\n",
      "  Downloading async_timeout-4.0.2-py3-none-any.whl (5.8 kB)\n",
      "Collecting multidict<7.0,>=4.5\n",
      "  Downloading multidict-6.0.4-cp37-cp37m-manylinux_2_17_x86_64.manylinux2014_x86_64.whl (94 kB)\n",
      "Collecting asynctest==0.13.0; python_version < \"3.8\"\n",
      "  Downloading asynctest-0.13.0-py3-none-any.whl (26 kB)\n",
      "Collecting attrs>=17.3.0\n",
      "  Downloading attrs-23.1.0-py3-none-any.whl (61 kB)\n",
      "Collecting charset-normalizer<4.0,>=2.0\n",
      "  Downloading charset_normalizer-3.1.0-cp37-cp37m-manylinux_2_17_x86_64.manylinux2014_x86_64.whl (171 kB)\n",
      "Collecting yarl<2.0,>=1.0\n",
      "  Downloading yarl-1.9.2-cp37-cp37m-manylinux_2_17_x86_64.manylinux2014_x86_64.whl (236 kB)\n",
      "Collecting botocore<1.27.60,>=1.27.59\n",
      "  Downloading botocore-1.27.59-py3-none-any.whl (9.1 MB)\n",
      "Collecting aioitertools>=0.5.1\n",
      "  Downloading aioitertools-0.11.0-py3-none-any.whl (23 kB)\n",
      "Collecting wrapt>=1.10.10\n",
      "  Downloading wrapt-1.15.0-cp37-cp37m-manylinux_2_5_x86_64.manylinux1_x86_64.manylinux_2_17_x86_64.manylinux2014_x86_64.whl (75 kB)\n",
      "Collecting importlib-metadata; python_version < \"3.8\"\n",
      "  Downloading importlib_metadata-6.6.0-py3-none-any.whl (22 kB)\n",
      "Collecting idna>=2.0\n",
      "  Downloading idna-3.4-py3-none-any.whl (61 kB)\n",
      "Requirement already satisfied: jmespath<2.0.0,>=0.7.1 in /usr/local/lib/python3.7/site-packages (from botocore<1.27.60,>=1.27.59->aiobotocore~=2.4.2->s3fs) (1.0.1)\n",
      "Collecting urllib3<1.27,>=1.25.4\n",
      "  Downloading urllib3-1.26.16-py2.py3-none-any.whl (143 kB)\n",
      "Requirement already satisfied: python-dateutil<3.0.0,>=2.1 in ./tmp/1685667538867-0/lib/python3.7/site-packages (from botocore<1.27.60,>=1.27.59->aiobotocore~=2.4.2->s3fs) (2.8.2)\n",
      "Collecting zipp>=0.5\n",
      "  Downloading zipp-3.15.0-py3-none-any.whl (6.8 kB)\n",
      "Requirement already satisfied: six>=1.5 in /usr/local/lib/python3.7/site-packages (from python-dateutil<3.0.0,>=2.1->botocore<1.27.60,>=1.27.59->aiobotocore~=2.4.2->s3fs) (1.13.0)\n",
      "Installing collected packages: frozenlist, aiosignal, async-timeout, multidict, asynctest, zipp, importlib-metadata, attrs, charset-normalizer, idna, yarl, aiohttp, urllib3, botocore, aioitertools, wrapt, aiobotocore, s3fs\n",
      "Successfully installed aiobotocore-2.4.2 aiohttp-3.8.4 aioitertools-0.11.0 aiosignal-1.3.1 async-timeout-4.0.2 asynctest-0.13.0 attrs-23.1.0 botocore-1.27.59 charset-normalizer-3.1.0 frozenlist-1.3.3 idna-3.4 importlib-metadata-6.6.0 multidict-6.0.4 s3fs-2023.1.0 urllib3-1.26.16 wrapt-1.15.0 yarl-1.9.2 zipp-3.15.0\n",
      "\n",
      "WARNING: The directory '/home/.cache/pip' or its parent directory is not owned or is not writable by the current user. The cache has been disabled. Check the permissions and owner of that directory. If executing pip with sudo, you may want sudo's -H flag.\n",
      "\n",
      "WARNING: The directory '/home/.cache/pip' or its parent directory is not owned or is not writable by the current user. The cache has been disabled. Check the permissions and owner of that directory. If executing pip with sudo, you may want sudo's -H flag.\n",
      "\n",
      "WARNING: The directory '/home/.cache/pip' or its parent directory is not owned or is not writable by the current user. The cache has been disabled. Check the permissions and owner of that directory. If executing pip with sudo, you may want sudo's -H flag.\n",
      "\n",
      "WARNING: The directory '/home/.cache/pip' or its parent directory is not owned or is not writable by the current user. The cache has been disabled. Check the permissions and owner of that directory. If executing pip with sudo, you may want sudo's -H flag."
     ]
    }
   ],
   "source": [
    "sc.install_pypi_package('pandas')\n",
    "sc.install_pypi_package('matplotlib')\n",
    "sc.install_pypi_package('fsspec')\n",
    "sc.install_pypi_package('s3fs ')"
   ]
  },
  {
   "cell_type": "code",
   "execution_count": 3,
   "id": "de0b015e-1e42-4507-adb3-b17f9ed64f38",
   "metadata": {
    "execution": {
     "iopub.execute_input": "2023-06-02T00:59:41.517206Z",
     "iopub.status.busy": "2023-06-02T00:59:41.516874Z",
     "iopub.status.idle": "2023-06-02T00:59:41.559827Z",
     "shell.execute_reply": "2023-06-02T00:59:41.559025Z",
     "shell.execute_reply.started": "2023-06-02T00:59:41.517171Z"
    },
    "tags": []
   },
   "outputs": [
    {
     "data": {
      "application/vnd.jupyter.widget-view+json": {
       "model_id": "57a5951d53be40ecae041768fffbd0cb",
       "version_major": 2,
       "version_minor": 0
      },
      "text/plain": [
       "VBox()"
      ]
     },
     "metadata": {},
     "output_type": "display_data"
    },
    {
     "data": {
      "application/vnd.jupyter.widget-view+json": {
       "model_id": "",
       "version_major": 2,
       "version_minor": 0
      },
      "text/plain": [
       "FloatProgress(value=0.0, bar_style='info', description='Progress:', layout=Layout(height='25px', width='50%'),…"
      ]
     },
     "metadata": {},
     "output_type": "display_data"
    }
   ],
   "source": [
    "import pyspark.sql.functions as F\n",
    "from pyspark.sql.types import *"
   ]
  },
  {
   "cell_type": "markdown",
   "id": "162ae698-47fe-4ef7-8690-90d38d4ceb06",
   "metadata": {},
   "source": [
    "## Load the data"
   ]
  },
  {
   "cell_type": "code",
   "execution_count": 4,
   "id": "00c76d57-f35a-4fb5-ae63-1a8edbb5c1fc",
   "metadata": {
    "execution": {
     "iopub.execute_input": "2023-06-02T00:59:41.561650Z",
     "iopub.status.busy": "2023-06-02T00:59:41.561327Z",
     "iopub.status.idle": "2023-06-02T00:59:46.826397Z",
     "shell.execute_reply": "2023-06-02T00:59:46.825650Z",
     "shell.execute_reply.started": "2023-06-02T00:59:41.561615Z"
    },
    "tags": []
   },
   "outputs": [
    {
     "data": {
      "application/vnd.jupyter.widget-view+json": {
       "model_id": "992737f6b9234edf82ddd6060584e009",
       "version_major": 2,
       "version_minor": 0
      },
      "text/plain": [
       "VBox()"
      ]
     },
     "metadata": {},
     "output_type": "display_data"
    },
    {
     "data": {
      "application/vnd.jupyter.widget-view+json": {
       "model_id": "",
       "version_major": 2,
       "version_minor": 0
      },
      "text/plain": [
       "FloatProgress(value=0.0, bar_style='info', description='Progress:', layout=Layout(height='25px', width='50%'),…"
      ]
     },
     "metadata": {},
     "output_type": "display_data"
    }
   ],
   "source": [
    "s3_uri = 's3a://noaa-swdi-pds/hail-????.csv'\n",
    "\n",
    "schema = StructType([\n",
    "    StructField(\"ZTIME\", StringType(), nullable=True),\n",
    "    StructField(\"LON\", DoubleType(), nullable=True),\n",
    "    StructField(\"LAT\", DoubleType(), nullable=True),\n",
    "    StructField(\"WSR_ID\", StringType(), nullable=True),\n",
    "    StructField(\"CELL_ID\", StringType(), nullable=True),\n",
    "    StructField(\"RANGE\", DoubleType(), nullable=True),\n",
    "    StructField(\"AZIMUTH\", DoubleType(), nullable=True),\n",
    "    StructField(\"SEVPROP\", DoubleType(), nullable=True),\n",
    "    StructField(\"PROB\", DoubleType(), nullable=True)\n",
    "])\n",
    "\n",
    "hail = (\n",
    "    spark\n",
    "    .read\n",
    "    .option(\"comment\", \"#\")\n",
    "    .csv(s3_uri, header=True, schema=schema)\n",
    "    .where(F.col('LON').isNotNull())\n",
    ")"
   ]
  },
  {
   "cell_type": "code",
   "execution_count": 5,
   "id": "301ad401-1ef7-4dc8-aa6d-d2d813e45853",
   "metadata": {
    "execution": {
     "iopub.execute_input": "2023-06-02T00:59:46.827640Z",
     "iopub.status.busy": "2023-06-02T00:59:46.827405Z",
     "iopub.status.idle": "2023-06-02T00:59:48.078518Z",
     "shell.execute_reply": "2023-06-02T00:59:48.077501Z",
     "shell.execute_reply.started": "2023-06-02T00:59:46.827617Z"
    },
    "tags": []
   },
   "outputs": [
    {
     "data": {
      "application/vnd.jupyter.widget-view+json": {
       "model_id": "268943299e8a4348945e0bba8c85b48d",
       "version_major": 2,
       "version_minor": 0
      },
      "text/plain": [
       "VBox()"
      ]
     },
     "metadata": {},
     "output_type": "display_data"
    },
    {
     "data": {
      "application/vnd.jupyter.widget-view+json": {
       "model_id": "",
       "version_major": 2,
       "version_minor": 0
      },
      "text/plain": [
       "FloatProgress(value=0.0, bar_style='info', description='Progress:', layout=Layout(height='25px', width='50%'),…"
      ]
     },
     "metadata": {},
     "output_type": "display_data"
    }
   ],
   "source": [
    "s3_uri = 's3a://noaa-swdi-pds/structure-????.csv'\n",
    "\n",
    "schema = StructType([\n",
    "    StructField(\"ZTIME\", StringType(), nullable=True),\n",
    "    StructField(\"LON\", DoubleType(), nullable=True),\n",
    "    StructField(\"LAT\", DoubleType(), nullable=True),\n",
    "    StructField(\"WSR_ID\", StringType(), nullable=True),\n",
    "    StructField(\"CELL_ID\", StringType(), nullable=True),\n",
    "    StructField(\"RANGE\", DoubleType(), nullable=True),\n",
    "    StructField(\"AZIMUTH\", DoubleType(), nullable=True),\n",
    "    StructField(\"BASE_HEIGHT\", DoubleType(), nullable=True),\n",
    "    StructField(\"TOP_HEIGHT\", DoubleType(), nullable=True),\n",
    "    StructField(\"VIL\", DoubleType(), nullable=True),\n",
    "    StructField(\"MAX_REFLECT\", DoubleType(), nullable=True),\n",
    "    StructField(\"HEIGHT\", DoubleType(), nullable=True)\n",
    "])\n",
    "\n",
    "structure = (\n",
    "    spark\n",
    "    .read\n",
    "    .option(\"comment\", \"#\")\n",
    "    .csv(s3_uri, header=True, schema=schema)\n",
    "    .where(F.col('LON').isNotNull())\n",
    ")"
   ]
  },
  {
   "cell_type": "code",
   "execution_count": null,
   "id": "993da46e-3ee9-4997-b260-a72c9dee23ef",
   "metadata": {
    "execution": {
     "iopub.execute_input": "2023-06-02T00:59:48.080270Z",
     "iopub.status.busy": "2023-06-02T00:59:48.079935Z"
    },
    "tags": []
   },
   "outputs": [
    {
     "data": {
      "application/vnd.jupyter.widget-view+json": {
       "model_id": "c894d7df5b7e46989b8440dc4e43a31f",
       "version_major": 2,
       "version_minor": 0
      },
      "text/plain": [
       "VBox()"
      ]
     },
     "metadata": {},
     "output_type": "display_data"
    },
    {
     "data": {
      "application/vnd.jupyter.widget-view+json": {
       "model_id": "",
       "version_major": 2,
       "version_minor": 0
      },
      "text/plain": [
       "FloatProgress(value=0.0, bar_style='info', description='Progress:', layout=Layout(height='25px', width='50%'),…"
      ]
     },
     "metadata": {},
     "output_type": "display_data"
    }
   ],
   "source": [
    "hail = (\n",
    "    hail\n",
    "    .withColumn('ZTIME', F.to_timestamp(F.col('ZTIME'), 'yyyyMMddHHmmss'))\n",
    "    .withColumn('ZDAY', F.date_format(F.col('ZTIME'), 'yyyy-MM-dd'))\n",
    "    .withColumn('ZYEAR', F.year('ZTIME'))\n",
    "    .withColumn('ZMONTH', F.month('ZTIME'))\n",
    "    .withColumn('ZDAY', F.dayofyear('ZTIME'))\n",
    "    .withColumn('ZHOUR', F.hour('ZTIME'))\n",
    "    .withColumnRenamed('RANGE', 'RANGE_HAIL')\n",
    "    .withColumnRenamed('AZIMUTH', 'AZIMUTH_HAIL')\n",
    "    .withColumnRenamed('LON', 'LON_HAIL')\n",
    "    .withColumnRenamed('LAT', 'LAT_HAIL')\n",
    "    .withColumnRenamed('SEVPROP', 'SEVPROB')\n",
    ")\n",
    "\n",
    "structure = (\n",
    "    structure\n",
    "    .withColumn('ZTIME', F.to_timestamp(F.col('ZTIME'), 'yyyyMMddHHmmss'))\n",
    "    .withColumn('ZDAY', F.date_format(F.col('ZTIME'), 'yyyy-MM-dd'))\n",
    "    .withColumn('ZYEAR', F.year('ZTIME'))\n",
    "    .withColumn('ZMONTH', F.month('ZTIME'))\n",
    "    .withColumn('ZDAY', F.dayofyear('ZTIME'))\n",
    "    .withColumn('ZHOUR', F.hour('ZTIME'))\n",
    "    .withColumnRenamed('RANGE', 'RANGE_STRUCTURE')\n",
    "    .withColumnRenamed('AZIMUTH', 'AZIMUTH_STRUCTURE')\n",
    "    .withColumnRenamed('LON', 'LON_STRUCTURE')\n",
    "    .withColumnRenamed('LAT', 'LAT_STRUCTURE')\n",
    ")"
   ]
  },
  {
   "cell_type": "code",
   "execution_count": 7,
   "id": "67a2046e-9aac-41b9-b713-b6952ea8e208",
   "metadata": {
    "execution": {
     "iopub.execute_input": "2023-06-02T01:01:20.608085Z",
     "iopub.status.busy": "2023-06-02T01:01:20.607779Z",
     "iopub.status.idle": "2023-06-02T01:01:20.859062Z",
     "shell.execute_reply": "2023-06-02T01:01:20.858206Z",
     "shell.execute_reply.started": "2023-06-02T01:01:20.608060Z"
    },
    "tags": []
   },
   "outputs": [
    {
     "data": {
      "application/vnd.jupyter.widget-view+json": {
       "model_id": "a401cf01db9a4500bd25ca6813100c41",
       "version_major": 2,
       "version_minor": 0
      },
      "text/plain": [
       "VBox()"
      ]
     },
     "metadata": {},
     "output_type": "display_data"
    },
    {
     "data": {
      "application/vnd.jupyter.widget-view+json": {
       "model_id": "",
       "version_major": 2,
       "version_minor": 0
      },
      "text/plain": [
       "FloatProgress(value=0.0, bar_style='info', description='Progress:', layout=Layout(height='25px', width='50%'),…"
      ]
     },
     "metadata": {},
     "output_type": "display_data"
    }
   ],
   "source": [
    "merge_cols = ['WSR_ID', 'CELL_ID', 'ZYEAR', 'ZMONTH', 'ZDAY', 'ZHOUR']\n",
    "\n",
    "merged_df = (\n",
    "    hail\n",
    "    .join(structure, on=merge_cols, how='inner')\n",
    "    .filter(\n",
    "        (F.col('SEVPROB') >= 0) &\n",
    "        (F.col('PROB') >= 0) &\n",
    "        (F.col('RANGE_HAIL') >= 0) &\n",
    "        (F.col('RANGE_STRUCTURE') >= 0) &\n",
    "        (F.col('AZIMUTH_HAIL') >= 0) &\n",
    "        (F.col('AZIMUTH_STRUCTURE') >= 0) &\n",
    "        (F.col('BASE_HEIGHT') >= 0) &\n",
    "        (F.col('TOP_HEIGHT') >= 0) &\n",
    "        (F.col('VIL') >= 0) &\n",
    "        (F.col('MAX_REFLECT') >= 0) &\n",
    "        (F.col('HEIGHT') >= 0) &\n",
    "        (F.col('TOP_HEIGHT') >= 0)\n",
    "    )\n",
    "    .filter(F.col('ZYEAR') >= 2022)\n",
    "    .withColumn('LON', (F.col('LON_HAIL') + F.col('LON_STRUCTURE'))/2)\n",
    "    .withColumn('LAT', (F.col('LAT_HAIL') + F.col('LAT_STRUCTURE'))/2)\n",
    ")"
   ]
  },
  {
   "cell_type": "markdown",
   "id": "9c797eda-2a2c-48c3-b423-d13292fac1b7",
   "metadata": {},
   "source": [
    "# Scatter Plot `HEIGHT` vs `SEVPROB`"
   ]
  },
  {
   "cell_type": "code",
   "execution_count": 10,
   "id": "b5053e3f-7599-43bd-b473-79d608f2d67b",
   "metadata": {
    "execution": {
     "iopub.execute_input": "2023-06-02T02:45:36.145771Z",
     "iopub.status.busy": "2023-06-02T02:45:36.145468Z",
     "iopub.status.idle": "2023-06-02T02:45:36.190332Z",
     "shell.execute_reply": "2023-06-02T02:45:36.189630Z",
     "shell.execute_reply.started": "2023-06-02T02:45:36.145744Z"
    },
    "tags": []
   },
   "outputs": [
    {
     "data": {
      "application/vnd.jupyter.widget-view+json": {
       "model_id": "13024f6141da4112bd07164c4a02e274",
       "version_major": 2,
       "version_minor": 0
      },
      "text/plain": [
       "VBox()"
      ]
     },
     "metadata": {},
     "output_type": "display_data"
    },
    {
     "data": {
      "application/vnd.jupyter.widget-view+json": {
       "model_id": "",
       "version_major": 2,
       "version_minor": 0
      },
      "text/plain": [
       "FloatProgress(value=0.0, bar_style='info', description='Progress:', layout=Layout(height='25px', width='50%'),…"
      ]
     },
     "metadata": {},
     "output_type": "display_data"
    }
   ],
   "source": [
    "from pyspark.sql.window import Window"
   ]
  },
  {
   "cell_type": "code",
   "execution_count": 12,
   "id": "ba944325-5bd8-41fd-bc6c-f3b341eb831d",
   "metadata": {
    "execution": {
     "iopub.execute_input": "2023-06-02T02:45:51.856178Z",
     "iopub.status.busy": "2023-06-02T02:45:51.855872Z",
     "iopub.status.idle": "2023-06-02T02:45:52.099047Z",
     "shell.execute_reply": "2023-06-02T02:45:52.098320Z",
     "shell.execute_reply.started": "2023-06-02T02:45:51.856154Z"
    },
    "tags": []
   },
   "outputs": [
    {
     "data": {
      "application/vnd.jupyter.widget-view+json": {
       "model_id": "3f15692b2de448ee84b7b4966e5632f3",
       "version_major": 2,
       "version_minor": 0
      },
      "text/plain": [
       "VBox()"
      ]
     },
     "metadata": {},
     "output_type": "display_data"
    },
    {
     "data": {
      "application/vnd.jupyter.widget-view+json": {
       "model_id": "",
       "version_major": 2,
       "version_minor": 0
      },
      "text/plain": [
       "FloatProgress(value=0.0, bar_style='info', description='Progress:', layout=Layout(height='25px', width='50%'),…"
      ]
     },
     "metadata": {},
     "output_type": "display_data"
    },
    {
     "name": "stdout",
     "output_type": "stream",
     "text": [
      "DataFrame[WSR_ID: string, CELL_ID: string, ZYEAR: int, ZMONTH: int, ZDAY: int, ZHOUR: int, ZTIME: timestamp, LON_HAIL: double, LAT_HAIL: double, RANGE_HAIL: double, AZIMUTH_HAIL: double, SEVPROB: double, PROB: double, ZTIME: timestamp, LON_STRUCTURE: double, LAT_STRUCTURE: double, RANGE_STRUCTURE: double, AZIMUTH_STRUCTURE: double, BASE_HEIGHT: double, TOP_HEIGHT: double, VIL: double, MAX_REFLECT: double, HEIGHT: double, LON: double, LAT: double]"
     ]
    }
   ],
   "source": [
    "merged_df"
   ]
  },
  {
   "cell_type": "code",
   "execution_count": 13,
   "id": "20048c45-a6a8-44c9-89ab-f9e8af021c34",
   "metadata": {
    "execution": {
     "iopub.execute_input": "2023-06-02T02:47:05.291049Z",
     "iopub.status.busy": "2023-06-02T02:47:05.290740Z",
     "iopub.status.idle": "2023-06-02T02:47:05.538202Z",
     "shell.execute_reply": "2023-06-02T02:47:05.537284Z",
     "shell.execute_reply.started": "2023-06-02T02:47:05.291023Z"
    },
    "tags": []
   },
   "outputs": [
    {
     "data": {
      "application/vnd.jupyter.widget-view+json": {
       "model_id": "48654a7bce5d401699b64b81e53a62d7",
       "version_major": 2,
       "version_minor": 0
      },
      "text/plain": [
       "VBox()"
      ]
     },
     "metadata": {},
     "output_type": "display_data"
    },
    {
     "data": {
      "application/vnd.jupyter.widget-view+json": {
       "model_id": "",
       "version_major": 2,
       "version_minor": 0
      },
      "text/plain": [
       "FloatProgress(value=0.0, bar_style='info', description='Progress:', layout=Layout(height='25px', width='50%'),…"
      ]
     },
     "metadata": {},
     "output_type": "display_data"
    },
    {
     "name": "stdout",
     "output_type": "stream",
     "text": [
      "DataFrame[WSR_ID: string, CELL_ID: string, ZYEAR: int, ZMONTH: int, ZDAY: int, ZHOUR: int, ZTIME: timestamp, LON_HAIL: double, LAT_HAIL: double, RANGE_HAIL: double, AZIMUTH_HAIL: double, SEVPROB: double, PROB: double, ZTIME: timestamp, LON_STRUCTURE: double, LAT_STRUCTURE: double, RANGE_STRUCTURE: double, AZIMUTH_STRUCTURE: double, BASE_HEIGHT: double, TOP_HEIGHT: double, VIL: double, MAX_REFLECT: double, HEIGHT: double, LON: double, LAT: double]"
     ]
    }
   ],
   "source": [
    "window = Window.partitionBy('ZMONTH').orderBy('ZDAY')\n",
    "\n",
    "# Add a row number column within each partition\n",
    "df_with_row_number = merged_df.withColumn('row_number', F.row_number().over(window))\n",
    "\n",
    "# Sample 100 datapoints per 'ZMONTH' using the row number\n",
    "sampled_df = df_with_row_number.filter(F.col('row_number') <= 10_000).drop('row_number')\n",
    "\n",
    "# Show the sampled DataFrame\n",
    "sampled_df"
   ]
  },
  {
   "cell_type": "code",
   "execution_count": 14,
   "id": "a41e7ace-b56f-4426-90ce-a72fe8911ccc",
   "metadata": {
    "execution": {
     "iopub.execute_input": "2023-06-02T02:47:12.743980Z",
     "iopub.status.busy": "2023-06-02T02:47:12.743491Z",
     "iopub.status.idle": "2023-06-02T02:57:51.604899Z",
     "shell.execute_reply": "2023-06-02T02:57:51.603888Z",
     "shell.execute_reply.started": "2023-06-02T02:47:12.743912Z"
    },
    "tags": []
   },
   "outputs": [
    {
     "data": {
      "application/vnd.jupyter.widget-view+json": {
       "model_id": "a0a5307148004078b2dd8466d449ca6b",
       "version_major": 2,
       "version_minor": 0
      },
      "text/plain": [
       "VBox()"
      ]
     },
     "metadata": {},
     "output_type": "display_data"
    },
    {
     "data": {
      "application/vnd.jupyter.widget-view+json": {
       "model_id": "",
       "version_major": 2,
       "version_minor": 0
      },
      "text/plain": [
       "FloatProgress(value=0.0, bar_style='info', description='Progress:', layout=Layout(height='25px', width='50%'),…"
      ]
     },
     "metadata": {},
     "output_type": "display_data"
    }
   ],
   "source": [
    "pdf = sampled_df.select('HEIGHT', 'SEVPROB').toPandas()"
   ]
  },
  {
   "cell_type": "code",
   "execution_count": 16,
   "id": "51136ae3-c5af-47ef-a383-894cbea6f897",
   "metadata": {
    "execution": {
     "iopub.execute_input": "2023-06-02T03:03:00.119147Z",
     "iopub.status.busy": "2023-06-02T03:03:00.118834Z",
     "iopub.status.idle": "2023-06-02T03:03:01.380441Z",
     "shell.execute_reply": "2023-06-02T03:03:01.379490Z",
     "shell.execute_reply.started": "2023-06-02T03:03:00.119119Z"
    },
    "tags": []
   },
   "outputs": [
    {
     "data": {
      "application/vnd.jupyter.widget-view+json": {
       "model_id": "892efb8a279845878ba91924662b6fcb",
       "version_major": 2,
       "version_minor": 0
      },
      "text/plain": [
       "VBox()"
      ]
     },
     "metadata": {},
     "output_type": "display_data"
    },
    {
     "data": {
      "application/vnd.jupyter.widget-view+json": {
       "model_id": "",
       "version_major": 2,
       "version_minor": 0
      },
      "text/plain": [
       "FloatProgress(value=0.0, bar_style='info', description='Progress:', layout=Layout(height='25px', width='50%'),…"
      ]
     },
     "metadata": {},
     "output_type": "display_data"
    },
    {
     "name": "stdout",
     "output_type": "stream",
     "text": [
      "Collecting seaborn\n",
      "  Downloading seaborn-0.12.2-py3-none-any.whl (293 kB)\n",
      "Requirement already satisfied: pandas>=0.25 in ./tmp/1685667538867-0/lib/python3.7/site-packages (from seaborn) (1.3.5)\n",
      "Requirement already satisfied: numpy!=1.24.0,>=1.17 in /usr/local/lib64/python3.7/site-packages (from seaborn) (1.20.0)\n",
      "Requirement already satisfied: typing_extensions; python_version < \"3.8\" in ./tmp/1685667538867-0/lib/python3.7/site-packages (from seaborn) (4.6.3)\n",
      "Requirement already satisfied: matplotlib!=3.6.1,>=3.1 in ./tmp/1685667538867-0/lib/python3.7/site-packages (from seaborn) (3.5.3)\n",
      "Requirement already satisfied: python-dateutil>=2.7.3 in ./tmp/1685667538867-0/lib/python3.7/site-packages (from pandas>=0.25->seaborn) (2.8.2)\n",
      "Requirement already satisfied: pytz>=2017.3 in /usr/local/lib/python3.7/site-packages (from pandas>=0.25->seaborn) (2022.7)\n",
      "Requirement already satisfied: packaging>=20.0 in ./tmp/1685667538867-0/lib/python3.7/site-packages (from matplotlib!=3.6.1,>=3.1->seaborn) (23.1)\n",
      "Requirement already satisfied: pyparsing>=2.2.1 in ./tmp/1685667538867-0/lib/python3.7/site-packages (from matplotlib!=3.6.1,>=3.1->seaborn) (3.0.9)\n",
      "Requirement already satisfied: cycler>=0.10 in ./tmp/1685667538867-0/lib/python3.7/site-packages (from matplotlib!=3.6.1,>=3.1->seaborn) (0.11.0)\n",
      "Requirement already satisfied: kiwisolver>=1.0.1 in ./tmp/1685667538867-0/lib/python3.7/site-packages (from matplotlib!=3.6.1,>=3.1->seaborn) (1.4.4)\n",
      "Requirement already satisfied: pillow>=6.2.0 in ./tmp/1685667538867-0/lib/python3.7/site-packages (from matplotlib!=3.6.1,>=3.1->seaborn) (9.5.0)\n",
      "Requirement already satisfied: fonttools>=4.22.0 in ./tmp/1685667538867-0/lib/python3.7/site-packages (from matplotlib!=3.6.1,>=3.1->seaborn) (4.38.0)\n",
      "Requirement already satisfied: six>=1.5 in /usr/local/lib/python3.7/site-packages (from python-dateutil>=2.7.3->pandas>=0.25->seaborn) (1.13.0)\n",
      "Installing collected packages: seaborn\n",
      "Successfully installed seaborn-0.12.2\n",
      "\n",
      "WARNING: The directory '/home/.cache/pip' or its parent directory is not owned or is not writable by the current user. The cache has been disabled. Check the permissions and owner of that directory. If executing pip with sudo, you may want sudo's -H flag."
     ]
    }
   ],
   "source": [
    "sc.install_pypi_package('seaborn')"
   ]
  },
  {
   "cell_type": "code",
   "execution_count": 18,
   "id": "76ccded8-2452-4fa6-9887-abfb7d4be714",
   "metadata": {
    "execution": {
     "iopub.execute_input": "2023-06-02T03:03:10.367076Z",
     "iopub.status.busy": "2023-06-02T03:03:10.366760Z",
     "iopub.status.idle": "2023-06-02T03:03:12.624063Z",
     "shell.execute_reply": "2023-06-02T03:03:12.623191Z",
     "shell.execute_reply.started": "2023-06-02T03:03:10.367049Z"
    },
    "tags": []
   },
   "outputs": [
    {
     "data": {
      "application/vnd.jupyter.widget-view+json": {
       "model_id": "12531548469e4742a860bfc2b7d5816f",
       "version_major": 2,
       "version_minor": 0
      },
      "text/plain": [
       "VBox()"
      ]
     },
     "metadata": {},
     "output_type": "display_data"
    },
    {
     "data": {
      "application/vnd.jupyter.widget-view+json": {
       "model_id": "",
       "version_major": 2,
       "version_minor": 0
      },
      "text/plain": [
       "FloatProgress(value=0.0, bar_style='info', description='Progress:', layout=Layout(height='25px', width='50%'),…"
      ]
     },
     "metadata": {},
     "output_type": "display_data"
    }
   ],
   "source": [
    "import matplotlib.pyplot as plt\n",
    "import seaborn as sns"
   ]
  },
  {
   "cell_type": "code",
   "execution_count": 23,
   "id": "bd625ce5-4095-4768-8545-8a7e788a8151",
   "metadata": {
    "execution": {
     "iopub.execute_input": "2023-06-02T03:07:11.481261Z",
     "iopub.status.busy": "2023-06-02T03:07:11.480935Z",
     "iopub.status.idle": "2023-06-02T03:17:22.225149Z",
     "shell.execute_reply": "2023-06-02T03:17:22.224440Z",
     "shell.execute_reply.started": "2023-06-02T03:07:11.481226Z"
    },
    "tags": []
   },
   "outputs": [
    {
     "data": {
      "application/vnd.jupyter.widget-view+json": {
       "model_id": "b20d5596c7af4b2ea487b11d38eee73a",
       "version_major": 2,
       "version_minor": 0
      },
      "text/plain": [
       "VBox()"
      ]
     },
     "metadata": {},
     "output_type": "display_data"
    },
    {
     "data": {
      "application/vnd.jupyter.widget-view+json": {
       "model_id": "",
       "version_major": 2,
       "version_minor": 0
      },
      "text/plain": [
       "FloatProgress(value=0.0, bar_style='info', description='Progress:', layout=Layout(height='25px', width='50%'),…"
      ]
     },
     "metadata": {},
     "output_type": "display_data"
    },
    {
     "name": "stdout",
     "output_type": "stream",
     "text": [
      "+-------+\n",
      "|SEVPROB|\n",
      "+-------+\n",
      "|   20.0|\n",
      "|   70.0|\n",
      "|   80.0|\n",
      "|   60.0|\n",
      "|   40.0|\n",
      "|  100.0|\n",
      "|   10.0|\n",
      "|   30.0|\n",
      "|   90.0|\n",
      "|    0.0|\n",
      "|   50.0|\n",
      "+-------+"
     ]
    }
   ],
   "source": [
    "merged_df.select('SEVPROB').distinct().show(30)"
   ]
  },
  {
   "cell_type": "code",
   "execution_count": 20,
   "id": "58bbfb10-cf04-493a-9d08-71fb98110258",
   "metadata": {
    "execution": {
     "iopub.execute_input": "2023-06-02T03:03:18.670508Z",
     "iopub.status.busy": "2023-06-02T03:03:18.670198Z",
     "iopub.status.idle": "2023-06-02T03:03:19.432915Z",
     "shell.execute_reply": "2023-06-02T03:03:19.432163Z",
     "shell.execute_reply.started": "2023-06-02T03:03:18.670480Z"
    },
    "tags": []
   },
   "outputs": [
    {
     "data": {
      "application/vnd.jupyter.widget-view+json": {
       "model_id": "940d639e94e148029342fb36f7adfdab",
       "version_major": 2,
       "version_minor": 0
      },
      "text/plain": [
       "VBox()"
      ]
     },
     "metadata": {},
     "output_type": "display_data"
    },
    {
     "data": {
      "application/vnd.jupyter.widget-view+json": {
       "model_id": "",
       "version_major": 2,
       "version_minor": 0
      },
      "text/plain": [
       "FloatProgress(value=0.0, bar_style='info', description='Progress:', layout=Layout(height='25px', width='50%'),…"
      ]
     },
     "metadata": {},
     "output_type": "display_data"
    },
    {
     "data": {
      "image/png": "[encoded data removed]",
      "text/plain": [
       "<IPython.core.display.Image object>"
      ]
     },
     "metadata": {},
     "output_type": "display_data"
    }
   ],
   "source": [
    "plt.figure(figsize=(12, 8))\n",
    "\n",
    "sns.scatterplot(x=pdf['HEIGHT'], y=pdf['SEVPROB'], ec='darkslategray',\n",
    "                palette='colorblind')\n",
    "\n",
    "%matplot plt"
   ]
  },
  {
   "cell_type": "markdown",
   "id": "38f81e71-17e2-4c8d-a99b-0c442a49020b",
   "metadata": {},
   "source": [
    "## Average `BASE_HEIGHT`, `TOP_HEIGHT`, and `HEIGHT` on `structure` data"
   ]
  },
  {
   "cell_type": "code",
   "execution_count": 8,
   "id": "529d5ec5-baf3-4fb4-b65d-6255cfd8061a",
   "metadata": {
    "execution": {
     "iopub.execute_input": "2023-06-02T01:01:26.983238Z",
     "iopub.status.busy": "2023-06-02T01:01:26.982932Z",
     "iopub.status.idle": "2023-06-02T01:05:18.835569Z",
     "shell.execute_reply": "2023-06-02T01:05:18.834572Z",
     "shell.execute_reply.started": "2023-06-02T01:01:26.983212Z"
    },
    "tags": []
   },
   "outputs": [
    {
     "data": {
      "application/vnd.jupyter.widget-view+json": {
       "model_id": "055ff7c7acd14cdfb8d533d93ef7ec4f",
       "version_major": 2,
       "version_minor": 0
      },
      "text/plain": [
       "VBox()"
      ]
     },
     "metadata": {},
     "output_type": "display_data"
    },
    {
     "data": {
      "application/vnd.jupyter.widget-view+json": {
       "model_id": "",
       "version_major": 2,
       "version_minor": 0
      },
      "text/plain": [
       "FloatProgress(value=0.0, bar_style='info', description='Progress:', layout=Layout(height='25px', width='50%'),…"
      ]
     },
     "metadata": {},
     "output_type": "display_data"
    },
    {
     "name": "stdout",
     "output_type": "stream",
     "text": [
      "(9.657629776985058, 18.247489824780814, 11.636777251007867)"
     ]
    }
   ],
   "source": [
    "means = tuple(structure.select(\n",
    "    F.avg('BASE_HEIGHT'),\n",
    "    F.avg('TOP_HEIGHT'),\n",
    "    F.avg('HEIGHT')\n",
    ").first())\n",
    "means"
   ]
  }
 ],
 "metadata": {
  "kernelspec": {
   "display_name": "PySpark",
   "language": "python",
   "name": "pysparkkernel"
  },
  "language_info": {
   "codemirror_mode": {
    "name": "python",
    "version": 3
   },
   "file_extension": ".py",
   "mimetype": "text/x-python",
   "name": "pyspark",
   "pygments_lexer": "python3"
  }
 },
 "nbformat": 4,
 "nbformat_minor": 5
}
