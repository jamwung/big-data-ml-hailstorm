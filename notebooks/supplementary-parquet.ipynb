{
 "cells": [
  {
   "cell_type": "code",
   "execution_count": 1,
   "id": "7eef1b53-2131-4fe3-90ea-60a8e5e9a4c4",
   "metadata": {
    "execution": {
     "iopub.execute_input": "2023-06-09T09:26:47.383895Z",
     "iopub.status.busy": "2023-06-09T09:26:47.383570Z",
     "iopub.status.idle": "2023-06-09T09:27:39.660987Z",
     "shell.execute_reply": "2023-06-09T09:27:39.660095Z",
     "shell.execute_reply.started": "2023-06-09T09:26:47.383870Z"
    },
    "tags": []
   },
   "outputs": [
    {
     "data": {
      "application/vnd.jupyter.widget-view+json": {
       "model_id": "23fae4773f9e4dde88198355448029a5",
       "version_major": 2,
       "version_minor": 0
      },
      "text/plain": [
       "VBox()"
      ]
     },
     "metadata": {},
     "output_type": "display_data"
    },
    {
     "name": "stdout",
     "output_type": "stream",
     "text": [
      "Starting Spark application\n"
     ]
    },
    {
     "data": {
      "text/html": [
       "<table>\n",
       "<tbody><tr><th>ID</th><th>YARN Application ID</th><th>Kind</th><th>State</th><th>Spark UI</th><th>Driver log</th><th>User</th><th>Current session?</th></tr><tr><td>0</td><td>application_1686301395753_0001</td><td>pyspark</td><td>idle</td><td><a target=\"_blank\" href=\"http://ip-172-31-44-118.ec2.internal:20888/proxy/application_1686301395753_0001/\" class=\"emr-proxy-link j-1ZSB5NT1I8DEB application_1686301395753_0001\" emr-resource=\"j-1ZSB5NT1I8DEB\n",
       "\" application-id=\"application_1686301395753_0001\">Link</a></td><td><a target=\"_blank\" href=\"http://ip-172-31-43-41.ec2.internal:8042/node/containerlogs/container_1686301395753_0001_01_000001/livy\">Link</a></td><td>None</td><td>✔</td></tr></tbody></table>"
      ],
      "text/plain": [
       "<IPython.core.display.HTML object>"
      ]
     },
     "metadata": {},
     "output_type": "display_data"
    },
    {
     "data": {
      "application/vnd.jupyter.widget-view+json": {
       "model_id": "",
       "version_major": 2,
       "version_minor": 0
      },
      "text/plain": [
       "FloatProgress(value=0.0, bar_style='info', description='Progress:', layout=Layout(height='25px', width='50%'),…"
      ]
     },
     "metadata": {},
     "output_type": "display_data"
    },
    {
     "name": "stdout",
     "output_type": "stream",
     "text": [
      "SparkSession available as 'spark'.\n"
     ]
    },
    {
     "data": {
      "application/vnd.jupyter.widget-view+json": {
       "model_id": "",
       "version_major": 2,
       "version_minor": 0
      },
      "text/plain": [
       "FloatProgress(value=0.0, bar_style='info', description='Progress:', layout=Layout(height='25px', width='50%'),…"
      ]
     },
     "metadata": {},
     "output_type": "display_data"
    }
   ],
   "source": [
    "# Z"
   ]
  },
  {
   "cell_type": "code",
   "execution_count": 2,
   "id": "73c51b79-9b54-42ae-9d34-1a4d510e4499",
   "metadata": {
    "execution": {
     "iopub.execute_input": "2023-06-09T09:27:39.663160Z",
     "iopub.status.busy": "2023-06-09T09:27:39.662510Z",
     "iopub.status.idle": "2023-06-09T09:28:27.174150Z",
     "shell.execute_reply": "2023-06-09T09:28:27.173384Z",
     "shell.execute_reply.started": "2023-06-09T09:27:39.663122Z"
    },
    "tags": []
   },
   "outputs": [
    {
     "data": {
      "application/vnd.jupyter.widget-view+json": {
       "model_id": "f1480cee82ed4455918f277dd9c2757f",
       "version_major": 2,
       "version_minor": 0
      },
      "text/plain": [
       "VBox()"
      ]
     },
     "metadata": {},
     "output_type": "display_data"
    },
    {
     "data": {
      "application/vnd.jupyter.widget-view+json": {
       "model_id": "",
       "version_major": 2,
       "version_minor": 0
      },
      "text/plain": [
       "FloatProgress(value=0.0, bar_style='info', description='Progress:', layout=Layout(height='25px', width='50%'),…"
      ]
     },
     "metadata": {},
     "output_type": "display_data"
    },
    {
     "name": "stdout",
     "output_type": "stream",
     "text": [
      "Collecting pandas\n",
      "  Downloading pandas-1.3.5-cp37-cp37m-manylinux_2_17_x86_64.manylinux2014_x86_64.whl (11.3 MB)\n",
      "Collecting python-dateutil>=2.7.3\n",
      "  Downloading python_dateutil-2.8.2-py2.py3-none-any.whl (247 kB)\n",
      "Requirement already satisfied: numpy>=1.17.3; platform_machine != \"aarch64\" and platform_machine != \"arm64\" and python_version < \"3.10\" in /usr/local/lib64/python3.7/site-packages (from pandas) (1.20.0)\n",
      "Requirement already satisfied: pytz>=2017.3 in /usr/local/lib/python3.7/site-packages (from pandas) (2022.7)\n",
      "Requirement already satisfied: six>=1.5 in /usr/local/lib/python3.7/site-packages (from python-dateutil>=2.7.3->pandas) (1.13.0)\n",
      "Installing collected packages: python-dateutil, pandas\n",
      "Successfully installed pandas-1.3.5 python-dateutil-2.8.2\n",
      "\n",
      "Collecting matplotlib\n",
      "  Downloading matplotlib-3.5.3-cp37-cp37m-manylinux_2_5_x86_64.manylinux1_x86_64.whl (11.2 MB)\n",
      "Requirement already satisfied: numpy>=1.17 in /usr/local/lib64/python3.7/site-packages (from matplotlib) (1.20.0)\n",
      "Collecting packaging>=20.0\n",
      "  Downloading packaging-23.1-py3-none-any.whl (48 kB)\n",
      "Requirement already satisfied: python-dateutil>=2.7 in ./tmp/1686302850274-0/lib/python3.7/site-packages (from matplotlib) (2.8.2)\n",
      "Collecting pyparsing>=2.2.1\n",
      "  Downloading pyparsing-3.0.9-py3-none-any.whl (98 kB)\n",
      "Collecting cycler>=0.10\n",
      "  Downloading cycler-0.11.0-py3-none-any.whl (6.4 kB)\n",
      "Collecting kiwisolver>=1.0.1\n",
      "  Downloading kiwisolver-1.4.4-cp37-cp37m-manylinux_2_5_x86_64.manylinux1_x86_64.whl (1.1 MB)\n",
      "Collecting pillow>=6.2.0\n",
      "  Downloading Pillow-9.5.0-cp37-cp37m-manylinux_2_17_x86_64.manylinux2014_x86_64.whl (3.3 MB)\n",
      "Collecting fonttools>=4.22.0\n",
      "  Downloading fonttools-4.38.0-py3-none-any.whl (965 kB)\n",
      "Requirement already satisfied: six>=1.5 in /usr/local/lib/python3.7/site-packages (from python-dateutil>=2.7->matplotlib) (1.13.0)\n",
      "Collecting typing-extensions; python_version < \"3.8\"\n",
      "  Downloading typing_extensions-4.6.3-py3-none-any.whl (31 kB)\n",
      "Installing collected packages: packaging, pyparsing, cycler, typing-extensions, kiwisolver, pillow, fonttools, matplotlib\n",
      "Successfully installed cycler-0.11.0 fonttools-4.38.0 kiwisolver-1.4.4 matplotlib-3.5.3 packaging-23.1 pillow-9.5.0 pyparsing-3.0.9 typing-extensions-4.6.3\n",
      "\n",
      "Collecting fsspec\n",
      "  Downloading fsspec-2023.1.0-py3-none-any.whl (143 kB)\n",
      "Installing collected packages: fsspec\n",
      "Successfully installed fsspec-2023.1.0\n",
      "\n",
      "Collecting s3fs\n",
      "  Downloading s3fs-2023.1.0-py3-none-any.whl (27 kB)\n",
      "Collecting aiohttp!=4.0.0a0,!=4.0.0a1\n",
      "  Downloading aiohttp-3.8.4-cp37-cp37m-manylinux_2_17_x86_64.manylinux2014_x86_64.whl (948 kB)\n",
      "Collecting aiobotocore~=2.4.2\n",
      "  Downloading aiobotocore-2.4.2-py3-none-any.whl (66 kB)\n",
      "Requirement already satisfied: fsspec==2023.1.0 in ./tmp/1686302850274-0/lib/python3.7/site-packages (from s3fs) (2023.1.0)\n",
      "Requirement already satisfied: typing-extensions>=3.7.4; python_version < \"3.8\" in ./tmp/1686302850274-0/lib/python3.7/site-packages (from aiohttp!=4.0.0a0,!=4.0.0a1->s3fs) (4.6.3)\n",
      "Collecting aiosignal>=1.1.2\n",
      "  Downloading aiosignal-1.3.1-py3-none-any.whl (7.6 kB)\n",
      "Collecting frozenlist>=1.1.1\n",
      "  Downloading frozenlist-1.3.3-cp37-cp37m-manylinux_2_5_x86_64.manylinux1_x86_64.manylinux_2_17_x86_64.manylinux2014_x86_64.whl (148 kB)\n",
      "Collecting async-timeout<5.0,>=4.0.0a3\n",
      "  Downloading async_timeout-4.0.2-py3-none-any.whl (5.8 kB)\n",
      "Collecting multidict<7.0,>=4.5\n",
      "  Downloading multidict-6.0.4-cp37-cp37m-manylinux_2_17_x86_64.manylinux2014_x86_64.whl (94 kB)\n",
      "Collecting asynctest==0.13.0; python_version < \"3.8\"\n",
      "  Downloading asynctest-0.13.0-py3-none-any.whl (26 kB)\n",
      "Collecting attrs>=17.3.0\n",
      "  Downloading attrs-23.1.0-py3-none-any.whl (61 kB)\n",
      "Collecting charset-normalizer<4.0,>=2.0\n",
      "  Downloading charset_normalizer-3.1.0-cp37-cp37m-manylinux_2_17_x86_64.manylinux2014_x86_64.whl (171 kB)\n",
      "Collecting yarl<2.0,>=1.0\n",
      "  Downloading yarl-1.9.2-cp37-cp37m-manylinux_2_17_x86_64.manylinux2014_x86_64.whl (236 kB)\n",
      "Collecting botocore<1.27.60,>=1.27.59\n",
      "  Downloading botocore-1.27.59-py3-none-any.whl (9.1 MB)\n",
      "Collecting aioitertools>=0.5.1\n",
      "  Downloading aioitertools-0.11.0-py3-none-any.whl (23 kB)\n",
      "Collecting wrapt>=1.10.10\n",
      "  Downloading wrapt-1.15.0-cp37-cp37m-manylinux_2_5_x86_64.manylinux1_x86_64.manylinux_2_17_x86_64.manylinux2014_x86_64.whl (75 kB)\n",
      "Collecting importlib-metadata; python_version < \"3.8\"\n",
      "  Downloading importlib_metadata-6.6.0-py3-none-any.whl (22 kB)\n",
      "Collecting idna>=2.0\n",
      "  Downloading idna-3.4-py3-none-any.whl (61 kB)\n",
      "Requirement already satisfied: jmespath<2.0.0,>=0.7.1 in /usr/local/lib/python3.7/site-packages (from botocore<1.27.60,>=1.27.59->aiobotocore~=2.4.2->s3fs) (1.0.1)\n",
      "Collecting urllib3<1.27,>=1.25.4\n",
      "  Downloading urllib3-1.26.16-py2.py3-none-any.whl (143 kB)\n",
      "Requirement already satisfied: python-dateutil<3.0.0,>=2.1 in ./tmp/1686302850274-0/lib/python3.7/site-packages (from botocore<1.27.60,>=1.27.59->aiobotocore~=2.4.2->s3fs) (2.8.2)\n",
      "Collecting zipp>=0.5\n",
      "  Downloading zipp-3.15.0-py3-none-any.whl (6.8 kB)\n",
      "Requirement already satisfied: six>=1.5 in /usr/local/lib/python3.7/site-packages (from python-dateutil<3.0.0,>=2.1->botocore<1.27.60,>=1.27.59->aiobotocore~=2.4.2->s3fs) (1.13.0)\n",
      "Installing collected packages: frozenlist, aiosignal, async-timeout, multidict, asynctest, zipp, importlib-metadata, attrs, charset-normalizer, idna, yarl, aiohttp, urllib3, botocore, aioitertools, wrapt, aiobotocore, s3fs\n",
      "Successfully installed aiobotocore-2.4.2 aiohttp-3.8.4 aioitertools-0.11.0 aiosignal-1.3.1 async-timeout-4.0.2 asynctest-0.13.0 attrs-23.1.0 botocore-1.27.59 charset-normalizer-3.1.0 frozenlist-1.3.3 idna-3.4 importlib-metadata-6.6.0 multidict-6.0.4 s3fs-2023.1.0 urllib3-1.26.16 wrapt-1.15.0 yarl-1.9.2 zipp-3.15.0\n",
      "\n",
      "Collecting seaborn\n",
      "  Downloading seaborn-0.12.2-py3-none-any.whl (293 kB)\n",
      "Requirement already satisfied: pandas>=0.25 in ./tmp/1686302850274-0/lib/python3.7/site-packages (from seaborn) (1.3.5)\n",
      "Requirement already satisfied: numpy!=1.24.0,>=1.17 in /usr/local/lib64/python3.7/site-packages (from seaborn) (1.20.0)\n",
      "Requirement already satisfied: typing_extensions; python_version < \"3.8\" in ./tmp/1686302850274-0/lib/python3.7/site-packages (from seaborn) (4.6.3)\n",
      "Requirement already satisfied: matplotlib!=3.6.1,>=3.1 in ./tmp/1686302850274-0/lib/python3.7/site-packages (from seaborn) (3.5.3)\n",
      "Requirement already satisfied: python-dateutil>=2.7.3 in ./tmp/1686302850274-0/lib/python3.7/site-packages (from pandas>=0.25->seaborn) (2.8.2)\n",
      "Requirement already satisfied: pytz>=2017.3 in /usr/local/lib/python3.7/site-packages (from pandas>=0.25->seaborn) (2022.7)\n",
      "Requirement already satisfied: packaging>=20.0 in ./tmp/1686302850274-0/lib/python3.7/site-packages (from matplotlib!=3.6.1,>=3.1->seaborn) (23.1)\n",
      "Requirement already satisfied: pyparsing>=2.2.1 in ./tmp/1686302850274-0/lib/python3.7/site-packages (from matplotlib!=3.6.1,>=3.1->seaborn) (3.0.9)\n",
      "Requirement already satisfied: cycler>=0.10 in ./tmp/1686302850274-0/lib/python3.7/site-packages (from matplotlib!=3.6.1,>=3.1->seaborn) (0.11.0)\n",
      "Requirement already satisfied: kiwisolver>=1.0.1 in ./tmp/1686302850274-0/lib/python3.7/site-packages (from matplotlib!=3.6.1,>=3.1->seaborn) (1.4.4)\n",
      "Requirement already satisfied: pillow>=6.2.0 in ./tmp/1686302850274-0/lib/python3.7/site-packages (from matplotlib!=3.6.1,>=3.1->seaborn) (9.5.0)\n",
      "Requirement already satisfied: fonttools>=4.22.0 in ./tmp/1686302850274-0/lib/python3.7/site-packages (from matplotlib!=3.6.1,>=3.1->seaborn) (4.38.0)\n",
      "Requirement already satisfied: six>=1.5 in /usr/local/lib/python3.7/site-packages (from python-dateutil>=2.7.3->pandas>=0.25->seaborn) (1.13.0)\n",
      "Installing collected packages: seaborn\n",
      "Successfully installed seaborn-0.12.2\n",
      "\n",
      "WARNING: The directory '/home/.cache/pip' or its parent directory is not owned or is not writable by the current user. The cache has been disabled. Check the permissions and owner of that directory. If executing pip with sudo, you may want sudo's -H flag.\n",
      "\n",
      "WARNING: The directory '/home/.cache/pip' or its parent directory is not owned or is not writable by the current user. The cache has been disabled. Check the permissions and owner of that directory. If executing pip with sudo, you may want sudo's -H flag.\n",
      "\n",
      "WARNING: The directory '/home/.cache/pip' or its parent directory is not owned or is not writable by the current user. The cache has been disabled. Check the permissions and owner of that directory. If executing pip with sudo, you may want sudo's -H flag.\n",
      "\n",
      "WARNING: The directory '/home/.cache/pip' or its parent directory is not owned or is not writable by the current user. The cache has been disabled. Check the permissions and owner of that directory. If executing pip with sudo, you may want sudo's -H flag.\n",
      "\n",
      "WARNING: The directory '/home/.cache/pip' or its parent directory is not owned or is not writable by the current user. The cache has been disabled. Check the permissions and owner of that directory. If executing pip with sudo, you may want sudo's -H flag."
     ]
    }
   ],
   "source": [
    "sc.install_pypi_package('pandas')\n",
    "sc.install_pypi_package('matplotlib')\n",
    "sc.install_pypi_package('fsspec')\n",
    "sc.install_pypi_package('s3fs ')\n",
    "sc.install_pypi_package('seaborn')"
   ]
  },
  {
   "cell_type": "markdown",
   "id": "c7bd8093-9049-4ab0-88b0-e0441ff2a41d",
   "metadata": {},
   "source": [
    "# Merge the Hail dataset and Structure dataset"
   ]
  },
  {
   "cell_type": "code",
   "execution_count": 3,
   "id": "a2ca361e-4966-4df2-adaa-4a81b2bfcbf8",
   "metadata": {
    "execution": {
     "iopub.execute_input": "2023-06-09T09:28:27.176080Z",
     "iopub.status.busy": "2023-06-09T09:28:27.175847Z",
     "iopub.status.idle": "2023-06-09T09:28:27.227118Z",
     "shell.execute_reply": "2023-06-09T09:28:27.226413Z",
     "shell.execute_reply.started": "2023-06-09T09:28:27.176056Z"
    },
    "tags": []
   },
   "outputs": [
    {
     "data": {
      "application/vnd.jupyter.widget-view+json": {
       "model_id": "ef7d95680ec44970820d0074c71f7893",
       "version_major": 2,
       "version_minor": 0
      },
      "text/plain": [
       "VBox()"
      ]
     },
     "metadata": {},
     "output_type": "display_data"
    },
    {
     "data": {
      "application/vnd.jupyter.widget-view+json": {
       "model_id": "",
       "version_major": 2,
       "version_minor": 0
      },
      "text/plain": [
       "FloatProgress(value=0.0, bar_style='info', description='Progress:', layout=Layout(height='25px', width='50%'),…"
      ]
     },
     "metadata": {},
     "output_type": "display_data"
    }
   ],
   "source": [
    "import pyspark.sql.functions as F\n",
    "from pyspark.sql.types import *"
   ]
  },
  {
   "cell_type": "markdown",
   "id": "70a12d80-81da-43ae-a4cd-a4327b0eb8dd",
   "metadata": {},
   "source": [
    "## Load the data"
   ]
  },
  {
   "cell_type": "code",
   "execution_count": 4,
   "id": "ed0cc1e0-4baa-40c7-bb51-fe338ab074c1",
   "metadata": {
    "execution": {
     "iopub.execute_input": "2023-06-09T09:28:27.228564Z",
     "iopub.status.busy": "2023-06-09T09:28:27.228341Z",
     "iopub.status.idle": "2023-06-09T09:28:32.520665Z",
     "shell.execute_reply": "2023-06-09T09:28:32.519780Z",
     "shell.execute_reply.started": "2023-06-09T09:28:27.228540Z"
    },
    "tags": []
   },
   "outputs": [
    {
     "data": {
      "application/vnd.jupyter.widget-view+json": {
       "model_id": "50ee4b4b47a3495985187b07d0d514bc",
       "version_major": 2,
       "version_minor": 0
      },
      "text/plain": [
       "VBox()"
      ]
     },
     "metadata": {},
     "output_type": "display_data"
    },
    {
     "data": {
      "application/vnd.jupyter.widget-view+json": {
       "model_id": "",
       "version_major": 2,
       "version_minor": 0
      },
      "text/plain": [
       "FloatProgress(value=0.0, bar_style='info', description='Progress:', layout=Layout(height='25px', width='50%'),…"
      ]
     },
     "metadata": {},
     "output_type": "display_data"
    }
   ],
   "source": [
    "s3_uri = 's3a://noaa-swdi-pds/hail-????.csv'\n",
    "\n",
    "schema = StructType([\n",
    "    StructField(\"ZTIME\", StringType(), nullable=True),\n",
    "    StructField(\"LON\", DoubleType(), nullable=True),\n",
    "    StructField(\"LAT\", DoubleType(), nullable=True),\n",
    "    StructField(\"WSR_ID\", StringType(), nullable=True),\n",
    "    StructField(\"CELL_ID\", StringType(), nullable=True),\n",
    "    StructField(\"RANGE\", DoubleType(), nullable=True),\n",
    "    StructField(\"AZIMUTH\", DoubleType(), nullable=True),\n",
    "    StructField(\"SEVPROP\", DoubleType(), nullable=True),\n",
    "    StructField(\"PROB\", DoubleType(), nullable=True)\n",
    "])\n",
    "\n",
    "hail = (\n",
    "    spark\n",
    "    .read\n",
    "    .csv(s3_uri, header=True, schema=schema)\n",
    "    .where(F.col('LON').isNotNull())\n",
    ")"
   ]
  },
  {
   "cell_type": "code",
   "execution_count": 5,
   "id": "8161df20-3694-4629-b511-4081180e5e37",
   "metadata": {
    "execution": {
     "iopub.execute_input": "2023-06-09T09:28:32.522257Z",
     "iopub.status.busy": "2023-06-09T09:28:32.521933Z",
     "iopub.status.idle": "2023-06-09T09:28:33.793519Z",
     "shell.execute_reply": "2023-06-09T09:28:33.792771Z",
     "shell.execute_reply.started": "2023-06-09T09:28:32.522222Z"
    },
    "tags": []
   },
   "outputs": [
    {
     "data": {
      "application/vnd.jupyter.widget-view+json": {
       "model_id": "5fe594c52c7846d9a9e47aec86c8d6a8",
       "version_major": 2,
       "version_minor": 0
      },
      "text/plain": [
       "VBox()"
      ]
     },
     "metadata": {},
     "output_type": "display_data"
    },
    {
     "data": {
      "application/vnd.jupyter.widget-view+json": {
       "model_id": "",
       "version_major": 2,
       "version_minor": 0
      },
      "text/plain": [
       "FloatProgress(value=0.0, bar_style='info', description='Progress:', layout=Layout(height='25px', width='50%'),…"
      ]
     },
     "metadata": {},
     "output_type": "display_data"
    }
   ],
   "source": [
    "s3_uri = 's3a://noaa-swdi-pds/structure-????.csv'\n",
    "\n",
    "schema = StructType([\n",
    "    StructField(\"ZTIME\", StringType(), nullable=True),\n",
    "    StructField(\"LON\", DoubleType(), nullable=True),\n",
    "    StructField(\"LAT\", DoubleType(), nullable=True),\n",
    "    StructField(\"WSR_ID\", StringType(), nullable=True),\n",
    "    StructField(\"CELL_ID\", StringType(), nullable=True),\n",
    "    StructField(\"RANGE\", DoubleType(), nullable=True),\n",
    "    StructField(\"AZIMUTH\", DoubleType(), nullable=True),\n",
    "    StructField(\"BASE_HEIGHT\", DoubleType(), nullable=True),\n",
    "    StructField(\"TOP_HEIGHT\", DoubleType(), nullable=True),\n",
    "    StructField(\"VIL\", DoubleType(), nullable=True),\n",
    "    StructField(\"MAX_REFLECT\", DoubleType(), nullable=True),\n",
    "    StructField(\"HEIGHT\", DoubleType(), nullable=True)\n",
    "])\n",
    "\n",
    "structure = (\n",
    "    spark\n",
    "    .read\n",
    "    .csv(s3_uri, header=True, schema=schema)\n",
    "    .where(F.col('LON').isNotNull())\n",
    ")"
   ]
  },
  {
   "cell_type": "markdown",
   "id": "8f83fd6d-42ee-4bff-a584-0395e77dfc17",
   "metadata": {},
   "source": [
    "## Engineer datetime features"
   ]
  },
  {
   "cell_type": "code",
   "execution_count": 13,
   "id": "a34c431d-d54e-4b59-8cfb-49e13505d1ff",
   "metadata": {
    "execution": {
     "iopub.execute_input": "2023-06-09T09:30:23.598948Z",
     "iopub.status.busy": "2023-06-09T09:30:23.598602Z",
     "iopub.status.idle": "2023-06-09T09:30:23.858391Z",
     "shell.execute_reply": "2023-06-09T09:30:23.857722Z",
     "shell.execute_reply.started": "2023-06-09T09:30:23.598918Z"
    },
    "tags": []
   },
   "outputs": [
    {
     "data": {
      "application/vnd.jupyter.widget-view+json": {
       "model_id": "58c12e5bc342491eb3d66fedfe6ba4b1",
       "version_major": 2,
       "version_minor": 0
      },
      "text/plain": [
       "VBox()"
      ]
     },
     "metadata": {},
     "output_type": "display_data"
    },
    {
     "data": {
      "application/vnd.jupyter.widget-view+json": {
       "model_id": "",
       "version_major": 2,
       "version_minor": 0
      },
      "text/plain": [
       "FloatProgress(value=0.0, bar_style='info', description='Progress:', layout=Layout(height='25px', width='50%'),…"
      ]
     },
     "metadata": {},
     "output_type": "display_data"
    }
   ],
   "source": [
    "hail = (\n",
    "    hail\n",
    "    .withColumn('ZTIME', F.to_timestamp(F.col('ZTIME'), 'yyyyMMddHHmmss'))\n",
    "    .withColumn('ZDAY', F.date_format(F.col('ZTIME'), 'yyyy-MM-dd'))\n",
    "    .withColumn('ZYEAR', F.year('ZTIME'))\n",
    "    .withColumn('ZMONTH', F.month('ZTIME'))\n",
    "    .withColumn('ZDAY', F.dayofyear('ZTIME'))\n",
    "    .withColumn('ZHOUR', F.hour('ZTIME'))\n",
    "    .withColumnRenamed('RANGE', 'RANGE_HAIL')\n",
    "    .withColumnRenamed('AZIMUTH', 'AZIMUTH_HAIL')\n",
    "    .withColumnRenamed('LON', 'LON_HAIL')\n",
    "    .withColumnRenamed('LAT', 'LAT_HAIL')\n",
    "    .withColumnRenamed('SEVPROP', 'SEVPROB')\n",
    "    .drop('ZTIME')\n",
    ")\n",
    "\n",
    "structure = (\n",
    "    structure\n",
    "    .withColumn('ZTIME', F.to_timestamp(F.col('ZTIME'), 'yyyyMMddHHmmss'))\n",
    "    .withColumn('ZDAY', F.date_format(F.col('ZTIME'), 'yyyy-MM-dd'))\n",
    "    .withColumn('ZYEAR', F.year('ZTIME'))\n",
    "    .withColumn('ZMONTH', F.month('ZTIME'))\n",
    "    .withColumn('ZDAY', F.dayofyear('ZTIME'))\n",
    "    .withColumn('ZHOUR', F.hour('ZTIME'))\n",
    "    .withColumnRenamed('RANGE', 'RANGE_STRUCTURE')\n",
    "    .withColumnRenamed('AZIMUTH', 'AZIMUTH_STRUCTURE')\n",
    "    .withColumnRenamed('LON', 'LON_STRUCTURE')\n",
    "    .withColumnRenamed('LAT', 'LAT_STRUCTURE')\n",
    "    .drop('ZTIME')\n",
    ")"
   ]
  },
  {
   "cell_type": "code",
   "execution_count": 7,
   "id": "a3d4bf13-6b51-44ff-b2e0-fa66e71b297a",
   "metadata": {
    "execution": {
     "iopub.execute_input": "2023-06-09T09:28:34.571132Z",
     "iopub.status.busy": "2023-06-09T09:28:34.570896Z",
     "iopub.status.idle": "2023-06-09T09:28:34.621207Z",
     "shell.execute_reply": "2023-06-09T09:28:34.620384Z",
     "shell.execute_reply.started": "2023-06-09T09:28:34.571107Z"
    },
    "tags": []
   },
   "outputs": [
    {
     "data": {
      "application/vnd.jupyter.widget-view+json": {
       "model_id": "032facdcb8d94a4abdcd19d44b01e567",
       "version_major": 2,
       "version_minor": 0
      },
      "text/plain": [
       "VBox()"
      ]
     },
     "metadata": {},
     "output_type": "display_data"
    },
    {
     "data": {
      "application/vnd.jupyter.widget-view+json": {
       "model_id": "",
       "version_major": 2,
       "version_minor": 0
      },
      "text/plain": [
       "FloatProgress(value=0.0, bar_style='info', description='Progress:', layout=Layout(height='25px', width='50%'),…"
      ]
     },
     "metadata": {},
     "output_type": "display_data"
    }
   ],
   "source": [
    "# hail.columns"
   ]
  },
  {
   "cell_type": "code",
   "execution_count": 8,
   "id": "51990ccf-5518-4824-87c6-e23454c5babf",
   "metadata": {
    "execution": {
     "iopub.execute_input": "2023-06-09T09:28:34.624659Z",
     "iopub.status.busy": "2023-06-09T09:28:34.624436Z",
     "iopub.status.idle": "2023-06-09T09:28:34.672249Z",
     "shell.execute_reply": "2023-06-09T09:28:34.671569Z",
     "shell.execute_reply.started": "2023-06-09T09:28:34.624635Z"
    },
    "tags": []
   },
   "outputs": [
    {
     "data": {
      "application/vnd.jupyter.widget-view+json": {
       "model_id": "7d9aa178d6ac47109dbb1bbb81d9b434",
       "version_major": 2,
       "version_minor": 0
      },
      "text/plain": [
       "VBox()"
      ]
     },
     "metadata": {},
     "output_type": "display_data"
    },
    {
     "data": {
      "application/vnd.jupyter.widget-view+json": {
       "model_id": "",
       "version_major": 2,
       "version_minor": 0
      },
      "text/plain": [
       "FloatProgress(value=0.0, bar_style='info', description='Progress:', layout=Layout(height='25px', width='50%'),…"
      ]
     },
     "metadata": {},
     "output_type": "display_data"
    }
   ],
   "source": [
    "# structure.columns"
   ]
  },
  {
   "cell_type": "markdown",
   "id": "45172507-4c84-4bc2-838e-451a5e18c0d7",
   "metadata": {},
   "source": [
    "## Merge the hail and structure data and filter `SEVPROB` < 0"
   ]
  },
  {
   "cell_type": "code",
   "execution_count": 9,
   "id": "3a6575b4-a5eb-473c-8d18-d79047d7fe2a",
   "metadata": {
    "execution": {
     "iopub.execute_input": "2023-06-09T09:28:34.673615Z",
     "iopub.status.busy": "2023-06-09T09:28:34.673391Z",
     "iopub.status.idle": "2023-06-09T09:28:34.723725Z",
     "shell.execute_reply": "2023-06-09T09:28:34.722812Z",
     "shell.execute_reply.started": "2023-06-09T09:28:34.673591Z"
    },
    "tags": []
   },
   "outputs": [
    {
     "data": {
      "application/vnd.jupyter.widget-view+json": {
       "model_id": "eb8d7349eb6d466a8da8dc833b7fe934",
       "version_major": 2,
       "version_minor": 0
      },
      "text/plain": [
       "VBox()"
      ]
     },
     "metadata": {},
     "output_type": "display_data"
    },
    {
     "data": {
      "application/vnd.jupyter.widget-view+json": {
       "model_id": "",
       "version_major": 2,
       "version_minor": 0
      },
      "text/plain": [
       "FloatProgress(value=0.0, bar_style='info', description='Progress:', layout=Layout(height='25px', width='50%'),…"
      ]
     },
     "metadata": {},
     "output_type": "display_data"
    }
   ],
   "source": [
    "# merged_df.filter(F.col('SEVPROB') == -999.0).limit(10).show()"
   ]
  },
  {
   "cell_type": "code",
   "execution_count": 14,
   "id": "d26aca9e-2294-4df6-9a09-8b827979b442",
   "metadata": {
    "execution": {
     "iopub.execute_input": "2023-06-09T09:30:34.719209Z",
     "iopub.status.busy": "2023-06-09T09:30:34.718876Z",
     "iopub.status.idle": "2023-06-09T09:30:34.982945Z",
     "shell.execute_reply": "2023-06-09T09:30:34.982055Z",
     "shell.execute_reply.started": "2023-06-09T09:30:34.719177Z"
    },
    "tags": []
   },
   "outputs": [
    {
     "data": {
      "application/vnd.jupyter.widget-view+json": {
       "model_id": "5caa032b5d2246f5b104e69e4aee97e6",
       "version_major": 2,
       "version_minor": 0
      },
      "text/plain": [
       "VBox()"
      ]
     },
     "metadata": {},
     "output_type": "display_data"
    },
    {
     "data": {
      "application/vnd.jupyter.widget-view+json": {
       "model_id": "",
       "version_major": 2,
       "version_minor": 0
      },
      "text/plain": [
       "FloatProgress(value=0.0, bar_style='info', description='Progress:', layout=Layout(height='25px', width='50%'),…"
      ]
     },
     "metadata": {},
     "output_type": "display_data"
    }
   ],
   "source": [
    "merge_cols = ['WSR_ID', 'CELL_ID', 'ZYEAR', 'ZMONTH', 'ZDAY', 'ZHOUR']\n",
    "\n",
    "merged_df = (\n",
    "    hail\n",
    "    .join(structure, on=merge_cols, how='inner')\n",
    "    .filter(\n",
    "        (F.col('SEVPROB') >= 0) &\n",
    "        (F.col('PROB') >= 0) &\n",
    "        (F.col('RANGE_HAIL') >= 0) &\n",
    "        (F.col('RANGE_STRUCTURE') >= 0) &\n",
    "        (F.col('AZIMUTH_HAIL') >= 0) &\n",
    "        (F.col('AZIMUTH_STRUCTURE') >= 0) &\n",
    "        (F.col('BASE_HEIGHT') >= 0) &\n",
    "        (F.col('TOP_HEIGHT') >= 0) &\n",
    "        (F.col('VIL') >= 0) &\n",
    "        (F.col('MAX_REFLECT') >= 0) &\n",
    "        (F.col('HEIGHT') >= 0) &\n",
    "        (F.col('TOP_HEIGHT') >= 0)\n",
    "    )\n",
    "#     .filter(F.col('ZYEAR') >= 2010)\n",
    "    .withColumn('LON', (F.col('LON_HAIL') + F.col('LON_STRUCTURE'))/2)\n",
    "    .withColumn('LAT', (F.col('LAT_HAIL') + F.col('LAT_STRUCTURE'))/2)\n",
    ")"
   ]
  },
  {
   "cell_type": "markdown",
   "id": "6999f0e9",
   "metadata": {},
   "source": [
    "## Parquet"
   ]
  },
  {
   "cell_type": "code",
   "execution_count": null,
   "id": "b11f8d1e-e6e3-4df4-ba87-cf59c2a3f95b",
   "metadata": {
    "execution": {
     "iopub.execute_input": "2023-06-09T09:30:48.264009Z",
     "iopub.status.busy": "2023-06-09T09:30:48.263684Z",
     "iopub.status.idle": "2023-06-09T09:50:15.296892Z"
    },
    "tags": []
   },
   "outputs": [
    {
     "data": {
      "application/vnd.jupyter.widget-view+json": {
       "model_id": "f4dee408dc4a4ebfa82a03f17fab3c2f",
       "version_major": 2,
       "version_minor": 0
      },
      "text/plain": [
       "VBox()"
      ]
     },
     "metadata": {},
     "output_type": "display_data"
    },
    {
     "data": {
      "application/vnd.jupyter.widget-view+json": {
       "model_id": "",
       "version_major": 2,
       "version_minor": 0
      },
      "text/plain": [
       "FloatProgress(value=0.0, bar_style='info', description='Progress:', layout=Layout(height='25px', width='50%'),…"
      ]
     },
     "metadata": {},
     "output_type": "display_data"
    }
   ],
   "source": [
    "parquet_path = 's3://bdcc2023-jwong/merged-hail-structure/'\n",
    "merged_df.write.parquet(parquet_path, partitionBy='ZYEAR')"
   ]
  },
  {
   "cell_type": "code",
   "execution_count": null,
   "id": "de5af543-081c-486e-ae2e-02a4f3f433b0",
   "metadata": {},
   "outputs": [
    {
     "data": {
      "application/vnd.jupyter.widget-view+json": {
       "model_id": "af8c4dc0e8d243c5bdb8430b7731c76c",
       "version_major": 2,
       "version_minor": 0
      },
      "text/plain": [
       "VBox()"
      ]
     },
     "metadata": {},
     "output_type": "display_data"
    },
    {
     "data": {
      "application/vnd.jupyter.widget-view+json": {
       "model_id": "",
       "version_major": 2,
       "version_minor": 0
      },
      "text/plain": [
       "FloatProgress(value=0.0, bar_style='info', description='Progress:', layout=Layout(height='25px', width='50%'),…"
      ]
     },
     "metadata": {},
     "output_type": "display_data"
    }
   ],
   "source": [
    "merged_dict = {}\n",
    "merged_dict['row_count'] = merged_df.count()"
   ]
  },
  {
   "cell_type": "code",
   "execution_count": 12,
   "id": "2795942c-47ca-4b0b-9ccb-3f9023d09116",
   "metadata": {
    "execution": {
     "iopub.execute_input": "2023-06-01T21:41:06.410286Z",
     "iopub.status.busy": "2023-06-01T21:41:06.410035Z",
     "iopub.status.idle": "2023-06-01T21:41:06.449584Z",
     "shell.execute_reply": "2023-06-01T21:41:06.448811Z",
     "shell.execute_reply.started": "2023-06-01T21:41:06.410256Z"
    },
    "tags": []
   },
   "outputs": [
    {
     "data": {
      "application/vnd.jupyter.widget-view+json": {
       "model_id": "8428ad2852144eebbbef5f05026291c0",
       "version_major": 2,
       "version_minor": 0
      },
      "text/plain": [
       "VBox()"
      ]
     },
     "metadata": {},
     "output_type": "display_data"
    },
    {
     "data": {
      "application/vnd.jupyter.widget-view+json": {
       "model_id": "",
       "version_major": 2,
       "version_minor": 0
      },
      "text/plain": [
       "FloatProgress(value=0.0, bar_style='info', description='Progress:', layout=Layout(height='25px', width='50%'),…"
      ]
     },
     "metadata": {},
     "output_type": "display_data"
    }
   ],
   "source": [
    "merged_dict['row_count']"
   ]
  }
 ],
 "metadata": {
  "kernelspec": {
   "display_name": "Python 3 (ipykernel)",
   "language": "python",
   "name": "python3"
  },
  "language_info": {
   "codemirror_mode": {
    "name": "ipython",
    "version": 3
   },
   "file_extension": ".py",
   "mimetype": "text/x-python",
   "name": "python",
   "nbconvert_exporter": "python",
   "pygments_lexer": "ipython3",
   "version": "3.10.10"
  },
  "toc": {
   "base_numbering": 1,
   "nav_menu": {},
   "number_sections": true,
   "sideBar": true,
   "skip_h1_title": true,
   "title_cell": "Table of Contents",
   "title_sidebar": "Contents",
   "toc_cell": false,
   "toc_position": {
    "height": "calc(100% - 180px)",
    "left": "10px",
    "top": "150px",
    "width": "313.486px"
   },
   "toc_section_display": true,
   "toc_window_display": true
  }
 },
 "nbformat": 4,
 "nbformat_minor": 5
}
