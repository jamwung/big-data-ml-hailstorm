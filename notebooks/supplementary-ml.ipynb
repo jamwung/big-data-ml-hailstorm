{
 "cells": [
  {
   "cell_type": "code",
   "execution_count": 17,
   "id": "7eef1b53-2131-4fe3-90ea-60a8e5e9a4c4",
   "metadata": {
    "execution": {
     "iopub.execute_input": "2023-06-02T09:33:02.406152Z",
     "iopub.status.busy": "2023-06-02T09:33:02.405865Z",
     "iopub.status.idle": "2023-06-02T09:33:02.446282Z",
     "shell.execute_reply": "2023-06-02T09:33:02.445610Z",
     "shell.execute_reply.started": "2023-06-02T09:33:02.406126Z"
    },
    "tags": []
   },
   "outputs": [
    {
     "data": {
      "application/vnd.jupyter.widget-view+json": {
       "model_id": "6add33b9fdb4498996311c9450c27ff8",
       "version_major": 2,
       "version_minor": 0
      },
      "text/plain": [
       "VBox()"
      ]
     },
     "metadata": {},
     "output_type": "display_data"
    },
    {
     "data": {
      "application/vnd.jupyter.widget-view+json": {
       "model_id": "a5987513c6ba42a9b0b73b260ac4ab99",
       "version_major": 2,
       "version_minor": 0
      },
      "text/plain": [
       "FloatProgress(value=0.0, bar_style='info', description='Progress:', layout=Layout(height='25px', width='50%'),…"
      ]
     },
     "metadata": {},
     "output_type": "display_data"
    }
   ],
   "source": [
    "# "
   ]
  },
  {
   "cell_type": "code",
   "execution_count": 31,
   "id": "73c51b79-9b54-42ae-9d34-1a4d510e4499",
   "metadata": {
    "execution": {
     "iopub.execute_input": "2023-06-02T09:40:49.609889Z",
     "iopub.status.busy": "2023-06-02T09:40:49.609562Z",
     "iopub.status.idle": "2023-06-02T09:40:50.859697Z",
     "shell.execute_reply": "2023-06-02T09:40:50.858795Z",
     "shell.execute_reply.started": "2023-06-02T09:40:49.609863Z"
    },
    "tags": []
   },
   "outputs": [
    {
     "data": {
      "application/vnd.jupyter.widget-view+json": {
       "model_id": "6b0ab200f00240d2b3219477ffc383e2",
       "version_major": 2,
       "version_minor": 0
      },
      "text/plain": [
       "VBox()"
      ]
     },
     "metadata": {},
     "output_type": "display_data"
    },
    {
     "data": {
      "application/vnd.jupyter.widget-view+json": {
       "model_id": "",
       "version_major": 2,
       "version_minor": 0
      },
      "text/plain": [
       "FloatProgress(value=0.0, bar_style='info', description='Progress:', layout=Layout(height='25px', width='50%'),…"
      ]
     },
     "metadata": {},
     "output_type": "display_data"
    },
    {
     "name": "stdout",
     "output_type": "stream",
     "text": [
      "Collecting seaborn\n",
      "  Downloading seaborn-0.12.2-py3-none-any.whl (293 kB)\n",
      "Requirement already satisfied: pandas>=0.25 in ./tmp/1685682739731-0/lib/python3.7/site-packages (from seaborn) (1.3.5)\n",
      "Requirement already satisfied: numpy!=1.24.0,>=1.17 in /usr/local/lib64/python3.7/site-packages (from seaborn) (1.20.0)\n",
      "Requirement already satisfied: typing_extensions; python_version < \"3.8\" in ./tmp/1685682739731-0/lib/python3.7/site-packages (from seaborn) (4.6.3)\n",
      "Requirement already satisfied: matplotlib!=3.6.1,>=3.1 in ./tmp/1685682739731-0/lib/python3.7/site-packages (from seaborn) (3.5.3)\n",
      "Requirement already satisfied: python-dateutil>=2.7.3 in ./tmp/1685682739731-0/lib/python3.7/site-packages (from pandas>=0.25->seaborn) (2.8.2)\n",
      "Requirement already satisfied: pytz>=2017.3 in /usr/local/lib/python3.7/site-packages (from pandas>=0.25->seaborn) (2022.7)\n",
      "Requirement already satisfied: packaging>=20.0 in ./tmp/1685682739731-0/lib/python3.7/site-packages (from matplotlib!=3.6.1,>=3.1->seaborn) (23.1)\n",
      "Requirement already satisfied: pyparsing>=2.2.1 in ./tmp/1685682739731-0/lib/python3.7/site-packages (from matplotlib!=3.6.1,>=3.1->seaborn) (3.0.9)\n",
      "Requirement already satisfied: cycler>=0.10 in ./tmp/1685682739731-0/lib/python3.7/site-packages (from matplotlib!=3.6.1,>=3.1->seaborn) (0.11.0)\n",
      "Requirement already satisfied: kiwisolver>=1.0.1 in ./tmp/1685682739731-0/lib/python3.7/site-packages (from matplotlib!=3.6.1,>=3.1->seaborn) (1.4.4)\n",
      "Requirement already satisfied: pillow>=6.2.0 in ./tmp/1685682739731-0/lib/python3.7/site-packages (from matplotlib!=3.6.1,>=3.1->seaborn) (9.5.0)\n",
      "Requirement already satisfied: fonttools>=4.22.0 in ./tmp/1685682739731-0/lib/python3.7/site-packages (from matplotlib!=3.6.1,>=3.1->seaborn) (4.38.0)\n",
      "Requirement already satisfied: six>=1.5 in /usr/local/lib/python3.7/site-packages (from python-dateutil>=2.7.3->pandas>=0.25->seaborn) (1.13.0)\n",
      "Installing collected packages: seaborn\n",
      "Successfully installed seaborn-0.12.2\n",
      "\n",
      "WARNING: The directory '/home/.cache/pip' or its parent directory is not owned or is not writable by the current user. The cache has been disabled. Check the permissions and owner of that directory. If executing pip with sudo, you may want sudo's -H flag."
     ]
    }
   ],
   "source": [
    "# sc.install_pypi_package('pandas')\n",
    "# sc.install_pypi_package('matplotlib')\n",
    "sc.install_pypi_package('seaborn')\n",
    "# sc.install_pypi_package('fsspec')\n",
    "# sc.install_pypi_package('s3fs ')"
   ]
  },
  {
   "cell_type": "markdown",
   "id": "c7bd8093-9049-4ab0-88b0-e0441ff2a41d",
   "metadata": {},
   "source": [
    "# Merge the Hail dataset and Structure dataset"
   ]
  },
  {
   "cell_type": "code",
   "execution_count": 19,
   "id": "a2ca361e-4966-4df2-adaa-4a81b2bfcbf8",
   "metadata": {
    "execution": {
     "iopub.execute_input": "2023-06-02T09:33:02.692647Z",
     "iopub.status.busy": "2023-06-02T09:33:02.692392Z",
     "iopub.status.idle": "2023-06-02T09:33:02.732153Z",
     "shell.execute_reply": "2023-06-02T09:33:02.731431Z",
     "shell.execute_reply.started": "2023-06-02T09:33:02.692596Z"
    },
    "tags": []
   },
   "outputs": [
    {
     "data": {
      "application/vnd.jupyter.widget-view+json": {
       "model_id": "6cf28fc3c7344295af92b15cca578096",
       "version_major": 2,
       "version_minor": 0
      },
      "text/plain": [
       "VBox()"
      ]
     },
     "metadata": {},
     "output_type": "display_data"
    },
    {
     "data": {
      "application/vnd.jupyter.widget-view+json": {
       "model_id": "9f97745e6477441a8763f09534ae3a29",
       "version_major": 2,
       "version_minor": 0
      },
      "text/plain": [
       "FloatProgress(value=0.0, bar_style='info', description='Progress:', layout=Layout(height='25px', width='50%'),…"
      ]
     },
     "metadata": {},
     "output_type": "display_data"
    }
   ],
   "source": [
    "import pyspark.sql.functions as F\n",
    "from pyspark.sql.types import *"
   ]
  },
  {
   "cell_type": "markdown",
   "id": "70a12d80-81da-43ae-a4cd-a4327b0eb8dd",
   "metadata": {},
   "source": [
    "## Load the data"
   ]
  },
  {
   "cell_type": "code",
   "execution_count": 20,
   "id": "ed0cc1e0-4baa-40c7-bb51-fe338ab074c1",
   "metadata": {
    "execution": {
     "iopub.execute_input": "2023-06-02T09:33:02.734198Z",
     "iopub.status.busy": "2023-06-02T09:33:02.733874Z",
     "iopub.status.idle": "2023-06-02T09:33:18.019885Z",
     "shell.execute_reply": "2023-06-02T09:33:18.019022Z",
     "shell.execute_reply.started": "2023-06-02T09:33:02.734160Z"
    },
    "tags": []
   },
   "outputs": [
    {
     "data": {
      "application/vnd.jupyter.widget-view+json": {
       "model_id": "cd106395d735424aa51e4fdb171880f1",
       "version_major": 2,
       "version_minor": 0
      },
      "text/plain": [
       "VBox()"
      ]
     },
     "metadata": {},
     "output_type": "display_data"
    },
    {
     "data": {
      "application/vnd.jupyter.widget-view+json": {
       "model_id": "e09000ece24d45b5856fd058a2f728b5",
       "version_major": 2,
       "version_minor": 0
      },
      "text/plain": [
       "FloatProgress(value=0.0, bar_style='info', description='Progress:', layout=Layout(height='25px', width='50%'),…"
      ]
     },
     "metadata": {},
     "output_type": "display_data"
    }
   ],
   "source": [
    "s3_uri = 's3a://noaa-swdi-pds/hail-????.csv'\n",
    "\n",
    "schema = StructType([\n",
    "    StructField(\"ZTIME\", StringType(), nullable=True),\n",
    "    StructField(\"LON\", DoubleType(), nullable=True),\n",
    "    StructField(\"LAT\", DoubleType(), nullable=True),\n",
    "    StructField(\"WSR_ID\", StringType(), nullable=True),\n",
    "    StructField(\"CELL_ID\", StringType(), nullable=True),\n",
    "    StructField(\"RANGE\", DoubleType(), nullable=True),\n",
    "    StructField(\"AZIMUTH\", DoubleType(), nullable=True),\n",
    "    StructField(\"SEVPROP\", DoubleType(), nullable=True),\n",
    "    StructField(\"PROB\", DoubleType(), nullable=True)\n",
    "])\n",
    "\n",
    "hail = (\n",
    "    spark\n",
    "    .read\n",
    "    .csv(s3_uri, header=True, schema=schema)\n",
    "    .where(F.col('LON').isNotNull())\n",
    ")"
   ]
  },
  {
   "cell_type": "code",
   "execution_count": 21,
   "id": "8161df20-3694-4629-b511-4081180e5e37",
   "metadata": {
    "execution": {
     "iopub.execute_input": "2023-06-02T09:33:18.021279Z",
     "iopub.status.busy": "2023-06-02T09:33:18.021045Z",
     "iopub.status.idle": "2023-06-02T09:33:31.309677Z",
     "shell.execute_reply": "2023-06-02T09:33:31.308962Z",
     "shell.execute_reply.started": "2023-06-02T09:33:18.021256Z"
    },
    "tags": []
   },
   "outputs": [
    {
     "data": {
      "application/vnd.jupyter.widget-view+json": {
       "model_id": "cde2f04d911e40ecab6bcd6210954754",
       "version_major": 2,
       "version_minor": 0
      },
      "text/plain": [
       "VBox()"
      ]
     },
     "metadata": {},
     "output_type": "display_data"
    },
    {
     "data": {
      "application/vnd.jupyter.widget-view+json": {
       "model_id": "317be479045d4a2aba45eb433303bc64",
       "version_major": 2,
       "version_minor": 0
      },
      "text/plain": [
       "FloatProgress(value=0.0, bar_style='info', description='Progress:', layout=Layout(height='25px', width='50%'),…"
      ]
     },
     "metadata": {},
     "output_type": "display_data"
    }
   ],
   "source": [
    "s3_uri = 's3a://noaa-swdi-pds/structure-????.csv'\n",
    "\n",
    "schema = StructType([\n",
    "    StructField(\"ZTIME\", StringType(), nullable=True),\n",
    "    StructField(\"LON\", DoubleType(), nullable=True),\n",
    "    StructField(\"LAT\", DoubleType(), nullable=True),\n",
    "    StructField(\"WSR_ID\", StringType(), nullable=True),\n",
    "    StructField(\"CELL_ID\", StringType(), nullable=True),\n",
    "    StructField(\"RANGE\", DoubleType(), nullable=True),\n",
    "    StructField(\"AZIMUTH\", DoubleType(), nullable=True),\n",
    "    StructField(\"BASE_HEIGHT\", DoubleType(), nullable=True),\n",
    "    StructField(\"TOP_HEIGHT\", DoubleType(), nullable=True),\n",
    "    StructField(\"VIL\", DoubleType(), nullable=True),\n",
    "    StructField(\"MAX_REFLECT\", DoubleType(), nullable=True),\n",
    "    StructField(\"HEIGHT\", DoubleType(), nullable=True)\n",
    "])\n",
    "\n",
    "structure = (\n",
    "    spark\n",
    "    .read\n",
    "    .csv(s3_uri, header=True, schema=schema)\n",
    "    .where(F.col('LON').isNotNull())\n",
    ")"
   ]
  },
  {
   "cell_type": "markdown",
   "id": "8f83fd6d-42ee-4bff-a584-0395e77dfc17",
   "metadata": {},
   "source": [
    "## Engineer datetime features"
   ]
  },
  {
   "cell_type": "code",
   "execution_count": 22,
   "id": "a34c431d-d54e-4b59-8cfb-49e13505d1ff",
   "metadata": {
    "execution": {
     "iopub.execute_input": "2023-06-02T09:33:31.311191Z",
     "iopub.status.busy": "2023-06-02T09:33:31.310861Z",
     "iopub.status.idle": "2023-06-02T09:33:31.554876Z",
     "shell.execute_reply": "2023-06-02T09:33:31.554151Z",
     "shell.execute_reply.started": "2023-06-02T09:33:31.311154Z"
    },
    "tags": []
   },
   "outputs": [
    {
     "data": {
      "application/vnd.jupyter.widget-view+json": {
       "model_id": "b87cfe04de5c4590b57e897e63e2a00c",
       "version_major": 2,
       "version_minor": 0
      },
      "text/plain": [
       "VBox()"
      ]
     },
     "metadata": {},
     "output_type": "display_data"
    },
    {
     "data": {
      "application/vnd.jupyter.widget-view+json": {
       "model_id": "5c0524e93f0a4dfbadd07acd6c5b7567",
       "version_major": 2,
       "version_minor": 0
      },
      "text/plain": [
       "FloatProgress(value=0.0, bar_style='info', description='Progress:', layout=Layout(height='25px', width='50%'),…"
      ]
     },
     "metadata": {},
     "output_type": "display_data"
    }
   ],
   "source": [
    "hail = (\n",
    "    hail\n",
    "    .withColumn('ZTIME', F.to_timestamp(F.col('ZTIME'), 'yyyyMMddHHmmss'))\n",
    "    .withColumn('ZYEAR', F.year('ZTIME'))\n",
    "    .withColumn('ZMONTH', F.month('ZTIME'))\n",
    "    .withColumn('ZDAY', F.dayofyear('ZTIME'))\n",
    "    .withColumn('ZHOUR', F.hour('ZTIME'))\n",
    "    .withColumnRenamed('RANGE', 'RANGE_HAIL')\n",
    "    .withColumnRenamed('AZIMUTH', 'AZIMUTH_HAIL')\n",
    "    .withColumnRenamed('LON', 'LON_HAIL')\n",
    "    .withColumnRenamed('LAT', 'LAT_HAIL')\n",
    "    .withColumnRenamed('SEVPROP', 'SEVPROB')\n",
    ")\n",
    "\n",
    "structure = (\n",
    "    structure\n",
    "    .withColumn('ZTIME', F.to_timestamp(F.col('ZTIME'), 'yyyyMMddHHmmss'))\n",
    "    .withColumn('ZYEAR', F.year('ZTIME'))\n",
    "    .withColumn('ZMONTH', F.month('ZTIME'))\n",
    "    .withColumn('ZDAY', F.dayofyear('ZTIME'))\n",
    "    .withColumn('ZHOUR', F.hour('ZTIME'))\n",
    "    .withColumnRenamed('RANGE', 'RANGE_STRUCTURE')\n",
    "    .withColumnRenamed('AZIMUTH', 'AZIMUTH_STRUCTURE')\n",
    "    .withColumnRenamed('LON', 'LON_STRUCTURE')\n",
    "    .withColumnRenamed('LAT', 'LAT_STRUCTURE')\n",
    ")"
   ]
  },
  {
   "cell_type": "code",
   "execution_count": 23,
   "id": "a3d4bf13-6b51-44ff-b2e0-fa66e71b297a",
   "metadata": {
    "execution": {
     "iopub.execute_input": "2023-06-02T09:33:31.556776Z",
     "iopub.status.busy": "2023-06-02T09:33:31.556505Z",
     "iopub.status.idle": "2023-06-02T09:33:31.595086Z",
     "shell.execute_reply": "2023-06-02T09:33:31.594412Z",
     "shell.execute_reply.started": "2023-06-02T09:33:31.556751Z"
    },
    "tags": []
   },
   "outputs": [
    {
     "data": {
      "application/vnd.jupyter.widget-view+json": {
       "model_id": "475bfafc45154feb86f96f85ab588819",
       "version_major": 2,
       "version_minor": 0
      },
      "text/plain": [
       "VBox()"
      ]
     },
     "metadata": {},
     "output_type": "display_data"
    },
    {
     "data": {
      "application/vnd.jupyter.widget-view+json": {
       "model_id": "bcf40e0ce0044a90a58cda500d23a37f",
       "version_major": 2,
       "version_minor": 0
      },
      "text/plain": [
       "FloatProgress(value=0.0, bar_style='info', description='Progress:', layout=Layout(height='25px', width='50%'),…"
      ]
     },
     "metadata": {},
     "output_type": "display_data"
    },
    {
     "name": "stdout",
     "output_type": "stream",
     "text": [
      "['ZTIME', 'LON_HAIL', 'LAT_HAIL', 'WSR_ID', 'CELL_ID', 'RANGE_HAIL', 'AZIMUTH_HAIL', 'SEVPROB', 'PROB', 'ZYEAR', 'ZMONTH', 'ZDAY', 'ZHOUR']"
     ]
    }
   ],
   "source": [
    "hail.columns"
   ]
  },
  {
   "cell_type": "code",
   "execution_count": 24,
   "id": "51990ccf-5518-4824-87c6-e23454c5babf",
   "metadata": {
    "execution": {
     "iopub.execute_input": "2023-06-02T09:33:31.596397Z",
     "iopub.status.busy": "2023-06-02T09:33:31.596174Z",
     "iopub.status.idle": "2023-06-02T09:33:31.638245Z",
     "shell.execute_reply": "2023-06-02T09:33:31.637598Z",
     "shell.execute_reply.started": "2023-06-02T09:33:31.596373Z"
    },
    "tags": []
   },
   "outputs": [
    {
     "data": {
      "application/vnd.jupyter.widget-view+json": {
       "model_id": "2e881361e3db48dc94edf7542516c383",
       "version_major": 2,
       "version_minor": 0
      },
      "text/plain": [
       "VBox()"
      ]
     },
     "metadata": {},
     "output_type": "display_data"
    },
    {
     "data": {
      "application/vnd.jupyter.widget-view+json": {
       "model_id": "6607bcac4a494aa49d889d3a18f8255b",
       "version_major": 2,
       "version_minor": 0
      },
      "text/plain": [
       "FloatProgress(value=0.0, bar_style='info', description='Progress:', layout=Layout(height='25px', width='50%'),…"
      ]
     },
     "metadata": {},
     "output_type": "display_data"
    },
    {
     "name": "stdout",
     "output_type": "stream",
     "text": [
      "['ZTIME', 'LON_STRUCTURE', 'LAT_STRUCTURE', 'WSR_ID', 'CELL_ID', 'RANGE_STRUCTURE', 'AZIMUTH_STRUCTURE', 'BASE_HEIGHT', 'TOP_HEIGHT', 'VIL', 'MAX_REFLECT', 'HEIGHT', 'ZYEAR', 'ZMONTH', 'ZDAY', 'ZHOUR']"
     ]
    }
   ],
   "source": [
    "structure.columns"
   ]
  },
  {
   "cell_type": "markdown",
   "id": "45172507-4c84-4bc2-838e-451a5e18c0d7",
   "metadata": {},
   "source": [
    "## Merge the hail and structure data and filter `SEVPROB` < 0"
   ]
  },
  {
   "cell_type": "code",
   "execution_count": 25,
   "id": "d26aca9e-2294-4df6-9a09-8b827979b442",
   "metadata": {
    "execution": {
     "iopub.execute_input": "2023-06-02T09:33:31.639436Z",
     "iopub.status.busy": "2023-06-02T09:33:31.639216Z",
     "iopub.status.idle": "2023-06-02T09:33:31.880223Z",
     "shell.execute_reply": "2023-06-02T09:33:31.879365Z",
     "shell.execute_reply.started": "2023-06-02T09:33:31.639413Z"
    },
    "tags": []
   },
   "outputs": [
    {
     "data": {
      "application/vnd.jupyter.widget-view+json": {
       "model_id": "a3ee683f39744929be9af6c7a03a010a",
       "version_major": 2,
       "version_minor": 0
      },
      "text/plain": [
       "VBox()"
      ]
     },
     "metadata": {},
     "output_type": "display_data"
    },
    {
     "data": {
      "application/vnd.jupyter.widget-view+json": {
       "model_id": "dfe0925397c34bd393d87e1f5c56dc15",
       "version_major": 2,
       "version_minor": 0
      },
      "text/plain": [
       "FloatProgress(value=0.0, bar_style='info', description='Progress:', layout=Layout(height='25px', width='50%'),…"
      ]
     },
     "metadata": {},
     "output_type": "display_data"
    }
   ],
   "source": [
    "merge_cols = ['WSR_ID', 'CELL_ID', 'ZYEAR', 'ZMONTH', 'ZDAY', 'ZHOUR']\n",
    "\n",
    "merged_df = (\n",
    "    hail\n",
    "    .join(structure, on=merge_cols, how='inner')\n",
    "    .filter(\n",
    "        ((F.col('SEVPROB') >= 0) &\n",
    "        (F.col('PROB') >= 0) &\n",
    "        (F.col('RANGE_HAIL') >= 0) &\n",
    "        (F.col('RANGE_STRUCTURE') >= 0) &\n",
    "        (F.col('AZIMUTH_HAIL') >= 0) &\n",
    "        (F.col('AZIMUTH_STRUCTURE') >= 0) &\n",
    "        (F.col('BASE_HEIGHT') >= 0) &\n",
    "        (F.col('TOP_HEIGHT') >= 0) &\n",
    "        (F.col('VIL') >= 0) &\n",
    "        (F.col('MAX_REFLECT') >= 0) &\n",
    "        (F.col('HEIGHT') >= 0) &\n",
    "        (F.col('TOP_HEIGHT') >= 0))\n",
    "       & (F.col('ZYEAR') >= 2010)\n",
    "    )\n",
    "    .withColumn('LON', (F.col('LON_HAIL') + F.col('LON_STRUCTURE'))/2)\n",
    "    .withColumn('LAT', (F.col('LAT_HAIL') + F.col('LAT_STRUCTURE'))/2)\n",
    ")"
   ]
  },
  {
   "cell_type": "code",
   "execution_count": null,
   "id": "1c0b16a6-bfd5-43b6-b56d-47c8a5025ae8",
   "metadata": {},
   "outputs": [],
   "source": [
    "# merged_dict = {}\n",
    "# merged_dict['row_count'] = merged_df.count()"
   ]
  },
  {
   "cell_type": "code",
   "execution_count": 21,
   "id": "2795942c-47ca-4b0b-9ccb-3f9023d09116",
   "metadata": {
    "execution": {
     "iopub.execute_input": "2023-06-01T11:54:01.183828Z",
     "iopub.status.busy": "2023-06-01T11:54:01.183467Z",
     "iopub.status.idle": "2023-06-01T11:54:01.251715Z",
     "shell.execute_reply": "2023-06-01T11:54:01.250072Z",
     "shell.execute_reply.started": "2023-06-01T11:54:01.183785Z"
    },
    "tags": []
   },
   "outputs": [
    {
     "data": {
      "application/vnd.jupyter.widget-view+json": {
       "model_id": "9fdcfb3ffa6540ffa4ac3cfeb3dbea59",
       "version_major": 2,
       "version_minor": 0
      },
      "text/plain": [
       "VBox()"
      ]
     },
     "metadata": {},
     "output_type": "display_data"
    },
    {
     "data": {
      "application/vnd.jupyter.widget-view+json": {
       "model_id": "",
       "version_major": 2,
       "version_minor": 0
      },
      "text/plain": [
       "FloatProgress(value=0.0, bar_style='info', description='Progress:', layout=Layout(height='25px', width='50%'),…"
      ]
     },
     "metadata": {},
     "output_type": "display_data"
    },
    {
     "name": "stdout",
     "output_type": "stream",
     "text": [
      "428113791"
     ]
    }
   ],
   "source": [
    "# merged_dict['row_count']"
   ]
  },
  {
   "cell_type": "markdown",
   "id": "fba2dcb2-f796-4f0e-9144-14bfbf9a343d",
   "metadata": {},
   "source": [
    "## Model Training"
   ]
  },
  {
   "cell_type": "code",
   "execution_count": 10,
   "id": "aa2df8a0-0740-48f7-82c5-e70accb1a996",
   "metadata": {
    "execution": {
     "iopub.execute_input": "2023-06-02T05:13:34.830131Z",
     "iopub.status.busy": "2023-06-02T05:13:34.829916Z",
     "iopub.status.idle": "2023-06-02T05:13:35.579382Z",
     "shell.execute_reply": "2023-06-02T05:13:35.578659Z",
     "shell.execute_reply.started": "2023-06-02T05:13:34.830108Z"
    },
    "tags": []
   },
   "outputs": [
    {
     "data": {
      "application/vnd.jupyter.widget-view+json": {
       "model_id": "f12fbef9993f41fc9f8b1211056bbbd1",
       "version_major": 2,
       "version_minor": 0
      },
      "text/plain": [
       "VBox()"
      ]
     },
     "metadata": {},
     "output_type": "display_data"
    },
    {
     "data": {
      "application/vnd.jupyter.widget-view+json": {
       "model_id": "",
       "version_major": 2,
       "version_minor": 0
      },
      "text/plain": [
       "FloatProgress(value=0.0, bar_style='info', description='Progress:', layout=Layout(height='25px', width='50%'),…"
      ]
     },
     "metadata": {},
     "output_type": "display_data"
    }
   ],
   "source": [
    "from pyspark.ml.feature import VectorAssembler, VectorIndexer, StringIndexer\n",
    "from pyspark.ml.regression import GBTRegressor, RandomForestRegressor\n",
    "from pyspark.ml.evaluation import RegressionEvaluator"
   ]
  },
  {
   "cell_type": "code",
   "execution_count": 13,
   "id": "d8395352-6c90-4a42-8a3b-6fbb06d0ba3f",
   "metadata": {
    "execution": {
     "iopub.execute_input": "2023-06-01T18:53:35.240053Z",
     "iopub.status.busy": "2023-06-01T18:53:35.239733Z",
     "iopub.status.idle": "2023-06-01T18:53:35.290234Z",
     "shell.execute_reply": "2023-06-01T18:53:35.289232Z",
     "shell.execute_reply.started": "2023-06-01T18:53:35.240028Z"
    },
    "tags": []
   },
   "outputs": [
    {
     "data": {
      "application/vnd.jupyter.widget-view+json": {
       "model_id": "b271e6bac8204ac793b4ad7917eae6c8",
       "version_major": 2,
       "version_minor": 0
      },
      "text/plain": [
       "VBox()"
      ]
     },
     "metadata": {},
     "output_type": "display_data"
    },
    {
     "data": {
      "application/vnd.jupyter.widget-view+json": {
       "model_id": "",
       "version_major": 2,
       "version_minor": 0
      },
      "text/plain": [
       "FloatProgress(value=0.0, bar_style='info', description='Progress:', layout=Layout(height='25px', width='50%'),…"
      ]
     },
     "metadata": {},
     "output_type": "display_data"
    }
   ],
   "source": [
    "# month_si = StringIndexer(inputCol='ZMONTH', \n",
    "#                          outputCol='ZMONTH_indexed')\n",
    "# month_si_trained = month_si.fit(merged_df)\n",
    "# merged_df = month_si_trained.transform(merged_df)\n",
    "\n",
    "# # day_si = StringIndexer(inputCol='ZDAY', \n",
    "# #                        outputCol='ZDAY_indexed')\n",
    "# # day_si_trained = day_si.fit(merged_df)\n",
    "# # merged_df = day_si_trained.transform(merged_df)\n",
    "\n",
    "# hour_si = StringIndexer(inputCol='ZHOUR', \n",
    "#                         outputCol='ZHOUR_indexed')\n",
    "# hour_si_trained = hour_si.fit(merged_df)\n",
    "# merged_df = hour_si_trained.transform(merged_df)"
   ]
  },
  {
   "cell_type": "code",
   "execution_count": 11,
   "id": "3bd270c1-1f3a-4f90-9204-444a5c066b90",
   "metadata": {
    "execution": {
     "iopub.execute_input": "2023-06-02T05:13:35.580853Z",
     "iopub.status.busy": "2023-06-02T05:13:35.580497Z",
     "iopub.status.idle": "2023-06-02T05:13:36.330283Z",
     "shell.execute_reply": "2023-06-02T05:13:36.329482Z",
     "shell.execute_reply.started": "2023-06-02T05:13:35.580816Z"
    },
    "tags": []
   },
   "outputs": [
    {
     "data": {
      "application/vnd.jupyter.widget-view+json": {
       "model_id": "904ab7e872e541cba666490d0e716f45",
       "version_major": 2,
       "version_minor": 0
      },
      "text/plain": [
       "VBox()"
      ]
     },
     "metadata": {},
     "output_type": "display_data"
    },
    {
     "data": {
      "application/vnd.jupyter.widget-view+json": {
       "model_id": "",
       "version_major": 2,
       "version_minor": 0
      },
      "text/plain": [
       "FloatProgress(value=0.0, bar_style='info', description='Progress:', layout=Layout(height='25px', width='50%'),…"
      ]
     },
     "metadata": {},
     "output_type": "display_data"
    },
    {
     "name": "stdout",
     "output_type": "stream",
     "text": [
      "DataFrame[WSR_ID: string, CELL_ID: string, ZYEAR: int, ZMONTH: int, ZDAY: int, ZHOUR: int, ZTIME: timestamp, LON_HAIL: double, LAT_HAIL: double, RANGE_HAIL: double, AZIMUTH_HAIL: double, SEVPROB: double, PROB: double, ZTIME: timestamp, LON_STRUCTURE: double, LAT_STRUCTURE: double, RANGE_STRUCTURE: double, AZIMUTH_STRUCTURE: double, BASE_HEIGHT: double, TOP_HEIGHT: double, VIL: double, MAX_REFLECT: double, HEIGHT: double, LON: double, LAT: double, features: vector]"
     ]
    }
   ],
   "source": [
    "features = ['LON', 'LAT', 'ZYEAR', 'ZMONTH', 'ZHOUR', 'RANGE_HAIL', 'AZIMUTH_HAIL',\n",
    "            'RANGE_STRUCTURE', 'AZIMUTH_STRUCTURE', 'BASE_HEIGHT', 'TOP_HEIGHT', 'VIL', 'MAX_REFLECT', 'HEIGHT']\n",
    "\n",
    "va = VectorAssembler(\n",
    "    inputCols=features,\n",
    "    outputCol='features'\n",
    ")\n",
    "\n",
    "merged_df = va.transform(merged_df)\n",
    "merged_df"
   ]
  },
  {
   "cell_type": "code",
   "execution_count": 12,
   "id": "b1701090-04d3-4a8b-a9ae-5ed1d2d32b4d",
   "metadata": {
    "execution": {
     "iopub.execute_input": "2023-06-01T21:11:07.309496Z",
     "iopub.status.busy": "2023-06-01T21:11:07.309188Z",
     "iopub.status.idle": "2023-06-01T21:54:09.236460Z",
     "shell.execute_reply": "2023-06-01T21:54:09.235677Z",
     "shell.execute_reply.started": "2023-06-01T21:11:07.309469Z"
    },
    "tags": []
   },
   "outputs": [
    {
     "data": {
      "application/vnd.jupyter.widget-view+json": {
       "model_id": "ba1d59dee3f747d891b720a9826e6a82",
       "version_major": 2,
       "version_minor": 0
      },
      "text/plain": [
       "VBox()"
      ]
     },
     "metadata": {},
     "output_type": "display_data"
    },
    {
     "data": {
      "application/vnd.jupyter.widget-view+json": {
       "model_id": "",
       "version_major": 2,
       "version_minor": 0
      },
      "text/plain": [
       "FloatProgress(value=0.0, bar_style='info', description='Progress:', layout=Layout(height='25px', width='50%'),…"
      ]
     },
     "metadata": {},
     "output_type": "display_data"
    }
   ],
   "source": [
    "# seed = 143\n",
    "\n",
    "# df_train, df_test = merged_df.randomSplit([0.7, 0.3], seed=seed)\n",
    "# # df_train.cache()\n",
    "# # df_test.cache()\n",
    "\n",
    "# model = RandomForestRegressor(featuresCol='features', labelCol='SEVPROB', predictionCol='prediction')\n",
    "\n",
    "# model_trained = model.fit(df_train)\n",
    "\n",
    "# predictions = model_trained.transform(df_test)"
   ]
  },
  {
   "cell_type": "markdown",
   "id": "be16ea87-76ba-40b4-8bbf-f7efb8eb51a0",
   "metadata": {},
   "source": [
    "## Model Evaluation"
   ]
  },
  {
   "cell_type": "code",
   "execution_count": 13,
   "id": "9fb68e83-32f0-419e-b8e0-1ed8379bd21b",
   "metadata": {
    "execution": {
     "iopub.execute_input": "2023-06-01T22:32:15.176012Z",
     "iopub.status.busy": "2023-06-01T22:32:15.175658Z",
     "iopub.status.idle": "2023-06-01T22:32:32.470354Z",
     "shell.execute_reply": "2023-06-01T22:32:32.469625Z",
     "shell.execute_reply.started": "2023-06-01T22:32:15.175982Z"
    },
    "tags": []
   },
   "outputs": [
    {
     "data": {
      "application/vnd.jupyter.widget-view+json": {
       "model_id": "ae293bbed59e4b7d924fceaaeb32ba3b",
       "version_major": 2,
       "version_minor": 0
      },
      "text/plain": [
       "VBox()"
      ]
     },
     "metadata": {},
     "output_type": "display_data"
    },
    {
     "data": {
      "application/vnd.jupyter.widget-view+json": {
       "model_id": "",
       "version_major": 2,
       "version_minor": 0
      },
      "text/plain": [
       "FloatProgress(value=0.0, bar_style='info', description='Progress:', layout=Layout(height='25px', width='50%'),…"
      ]
     },
     "metadata": {},
     "output_type": "display_data"
    }
   ],
   "source": [
    "model.save('s3://bdcc2023-studio-calbao1/e-7RR2MRIR6Y0XJQ9X5DRQBRYLX/rf-untrained-2010-new')\n",
    "model_trained.save('s3://bdcc2023-studio-calbao1/e-7RR2MRIR6Y0XJQ9X5DRQBRYLX/rf-trained-2010-new')"
   ]
  },
  {
   "cell_type": "code",
   "execution_count": 12,
   "id": "f693448e-40e9-4f7d-be74-60e8e6827925",
   "metadata": {
    "execution": {
     "iopub.execute_input": "2023-06-02T05:13:36.331517Z",
     "iopub.status.busy": "2023-06-02T05:13:36.331308Z",
     "iopub.status.idle": "2023-06-02T05:13:36.586978Z",
     "shell.execute_reply": "2023-06-02T05:13:36.586240Z",
     "shell.execute_reply.started": "2023-06-02T05:13:36.331495Z"
    }
   },
   "outputs": [
    {
     "data": {
      "application/vnd.jupyter.widget-view+json": {
       "model_id": "a3971bdcf6174b449501602e6049117c",
       "version_major": 2,
       "version_minor": 0
      },
      "text/plain": [
       "VBox()"
      ]
     },
     "metadata": {},
     "output_type": "display_data"
    },
    {
     "data": {
      "application/vnd.jupyter.widget-view+json": {
       "model_id": "",
       "version_major": 2,
       "version_minor": 0
      },
      "text/plain": [
       "FloatProgress(value=0.0, bar_style='info', description='Progress:', layout=Layout(height='25px', width='50%'),…"
      ]
     },
     "metadata": {},
     "output_type": "display_data"
    }
   ],
   "source": [
    "seed = 143\n",
    "\n",
    "df_train, df_test = merged_df.randomSplit([0.7, 0.3], seed=seed)"
   ]
  },
  {
   "cell_type": "code",
   "execution_count": 26,
   "id": "ad6d2918-93fa-411f-be23-420d0b70b817",
   "metadata": {
    "execution": {
     "iopub.execute_input": "2023-06-02T09:33:31.881471Z",
     "iopub.status.busy": "2023-06-02T09:33:31.881211Z",
     "iopub.status.idle": "2023-06-02T09:33:47.168860Z",
     "shell.execute_reply": "2023-06-02T09:33:47.168088Z",
     "shell.execute_reply.started": "2023-06-02T09:33:31.881446Z"
    },
    "tags": []
   },
   "outputs": [
    {
     "data": {
      "application/vnd.jupyter.widget-view+json": {
       "model_id": "124a891c645449bba7e0032f910569ff",
       "version_major": 2,
       "version_minor": 0
      },
      "text/plain": [
       "VBox()"
      ]
     },
     "metadata": {},
     "output_type": "display_data"
    },
    {
     "data": {
      "application/vnd.jupyter.widget-view+json": {
       "model_id": "",
       "version_major": 2,
       "version_minor": 0
      },
      "text/plain": [
       "FloatProgress(value=0.0, bar_style='info', description='Progress:', layout=Layout(height='25px', width='50%'),…"
      ]
     },
     "metadata": {},
     "output_type": "display_data"
    }
   ],
   "source": [
    "from pyspark.ml.regression import RandomForestRegressionModel\n",
    "model_trained = RandomForestRegressionModel.load('s3://bdcc2023-studio-calbao1/e-7RR2MRIR6Y0XJQ9X5DRQBRYLX/rf-trained-2010-new')"
   ]
  },
  {
   "cell_type": "code",
   "execution_count": 32,
   "id": "708b0bde-5c8b-4f64-8dfd-be983510dd5d",
   "metadata": {
    "execution": {
     "iopub.execute_input": "2023-06-02T09:41:03.690325Z",
     "iopub.status.busy": "2023-06-02T09:41:03.690008Z",
     "iopub.status.idle": "2023-06-02T09:41:03.935571Z",
     "shell.execute_reply": "2023-06-02T09:41:03.934664Z",
     "shell.execute_reply.started": "2023-06-02T09:41:03.690298Z"
    },
    "tags": []
   },
   "outputs": [
    {
     "data": {
      "application/vnd.jupyter.widget-view+json": {
       "model_id": "1cb3336bd1a542b19a69fdeebcd019d9",
       "version_major": 2,
       "version_minor": 0
      },
      "text/plain": [
       "VBox()"
      ]
     },
     "metadata": {},
     "output_type": "display_data"
    },
    {
     "data": {
      "application/vnd.jupyter.widget-view+json": {
       "model_id": "",
       "version_major": 2,
       "version_minor": 0
      },
      "text/plain": [
       "FloatProgress(value=0.0, bar_style='info', description='Progress:', layout=Layout(height='25px', width='50%'),…"
      ]
     },
     "metadata": {},
     "output_type": "display_data"
    }
   ],
   "source": [
    "import pandas as pd\n",
    "import matplotlib.pyplot as plt\n",
    "import seaborn as sns"
   ]
  },
  {
   "cell_type": "code",
   "execution_count": 33,
   "id": "05426225-93b3-4ccd-9225-45800c523356",
   "metadata": {
    "execution": {
     "iopub.execute_input": "2023-06-02T09:41:11.119610Z",
     "iopub.status.busy": "2023-06-02T09:41:11.119303Z",
     "iopub.status.idle": "2023-06-02T09:41:11.175435Z",
     "shell.execute_reply": "2023-06-02T09:41:11.174707Z",
     "shell.execute_reply.started": "2023-06-02T09:41:11.119584Z"
    },
    "tags": []
   },
   "outputs": [
    {
     "data": {
      "application/vnd.jupyter.widget-view+json": {
       "model_id": "24848cf7bdbf43b9917e1f8973dccc5e",
       "version_major": 2,
       "version_minor": 0
      },
      "text/plain": [
       "VBox()"
      ]
     },
     "metadata": {},
     "output_type": "display_data"
    },
    {
     "data": {
      "application/vnd.jupyter.widget-view+json": {
       "model_id": "",
       "version_major": 2,
       "version_minor": 0
      },
      "text/plain": [
       "FloatProgress(value=0.0, bar_style='info', description='Progress:', layout=Layout(height='25px', width='50%'),…"
      ]
     },
     "metadata": {},
     "output_type": "display_data"
    }
   ],
   "source": [
    "feat_importance = pd.DataFrame(sorted(zip(features, tuple(model_trained.featureImportances)), key=lambda x: -x[1]),\n",
    "                               columns=['feat', 'importance'])"
   ]
  },
  {
   "cell_type": "code",
   "execution_count": 53,
   "id": "6deed134-0e5a-4576-adc9-4126e1dfb9d5",
   "metadata": {
    "execution": {
     "iopub.execute_input": "2023-06-02T09:51:03.553525Z",
     "iopub.status.busy": "2023-06-02T09:51:03.553225Z",
     "iopub.status.idle": "2023-06-02T09:51:03.803436Z",
     "shell.execute_reply": "2023-06-02T09:51:03.802629Z",
     "shell.execute_reply.started": "2023-06-02T09:51:03.553499Z"
    },
    "tags": []
   },
   "outputs": [
    {
     "data": {
      "application/vnd.jupyter.widget-view+json": {
       "model_id": "e7acda2aa19f422fb55bc89c92c814d8",
       "version_major": 2,
       "version_minor": 0
      },
      "text/plain": [
       "VBox()"
      ]
     },
     "metadata": {},
     "output_type": "display_data"
    },
    {
     "data": {
      "application/vnd.jupyter.widget-view+json": {
       "model_id": "",
       "version_major": 2,
       "version_minor": 0
      },
      "text/plain": [
       "FloatProgress(value=0.0, bar_style='info', description='Progress:', layout=Layout(height='25px', width='50%'),…"
      ]
     },
     "metadata": {},
     "output_type": "display_data"
    },
    {
     "name": "stderr",
     "output_type": "stream",
     "text": [
      "An error was encountered:\n",
      "[Errno 2] No such file or directory: 's3://bdcc2023-studio-calbao1/e-7RR2MRIR6Y0XJQ9X5DRQBRYLX/feat_imp.jpg'\n",
      "Traceback (most recent call last):\n",
      "  File \"/mnt/yarn/usercache/livy/appcache/application_1685643960186_0003/container_1685643960186_0003_01_000001/tmp/1685682739731-0/lib/python3.7/site-packages/matplotlib/figure.py\", line 3058, in savefig\n",
      "    self.canvas.print_figure(fname, **kwargs)\n",
      "  File \"/mnt/yarn/usercache/livy/appcache/application_1685643960186_0003/container_1685643960186_0003_01_000001/tmp/1685682739731-0/lib/python3.7/site-packages/matplotlib/backend_bases.py\", line 2325, in print_figure\n",
      "    **kwargs)\n",
      "  File \"/mnt/yarn/usercache/livy/appcache/application_1685643960186_0003/container_1685643960186_0003_01_000001/tmp/1685682739731-0/lib/python3.7/site-packages/matplotlib/backend_bases.py\", line 1648, in wrapper\n",
      "    return func(*args, **kwargs)\n",
      "  File \"/mnt/yarn/usercache/livy/appcache/application_1685643960186_0003/container_1685643960186_0003_01_000001/tmp/1685682739731-0/lib/python3.7/site-packages/matplotlib/_api/deprecation.py\", line 415, in wrapper\n",
      "    return func(*inner_args, **inner_kwargs)\n",
      "  File \"/mnt/yarn/usercache/livy/appcache/application_1685643960186_0003/container_1685643960186_0003_01_000001/tmp/1685682739731-0/lib/python3.7/site-packages/matplotlib/backends/backend_agg.py\", line 584, in print_jpg\n",
      "    .save(filename_or_obj, format='jpeg', **pil_kwargs))\n",
      "  File \"/mnt/yarn/usercache/livy/appcache/application_1685643960186_0003/container_1685643960186_0003_01_000001/tmp/1685682739731-0/lib/python3.7/site-packages/PIL/Image.py\", line 2429, in save\n",
      "    fp = builtins.open(filename, \"w+b\")\n",
      "FileNotFoundError: [Errno 2] No such file or directory: 's3://bdcc2023-studio-calbao1/e-7RR2MRIR6Y0XJQ9X5DRQBRYLX/feat_imp.jpg'\n",
      "\n"
     ]
    }
   ],
   "source": [
    "fig.savefig('s3://bdcc2023-studio-calbao1/e-7RR2MRIR6Y0XJQ9X5DRQBRYLX/feat_imp.jpg', dpi=200)"
   ]
  },
  {
   "cell_type": "code",
   "execution_count": 54,
   "id": "9d866b49-7001-4ebc-806e-2472677618a8",
   "metadata": {
    "execution": {
     "iopub.execute_input": "2023-06-02T09:53:11.551821Z",
     "iopub.status.busy": "2023-06-02T09:53:11.551364Z",
     "iopub.status.idle": "2023-06-02T09:53:11.834755Z",
     "shell.execute_reply": "2023-06-02T09:53:11.833757Z",
     "shell.execute_reply.started": "2023-06-02T09:53:11.551770Z"
    },
    "tags": []
   },
   "outputs": [
    {
     "data": {
      "application/vnd.jupyter.widget-view+json": {
       "model_id": "fa72ce92a1ad4fb0bf6257f735fb51cf",
       "version_major": 2,
       "version_minor": 0
      },
      "text/plain": [
       "VBox()"
      ]
     },
     "metadata": {},
     "output_type": "display_data"
    },
    {
     "data": {
      "application/vnd.jupyter.widget-view+json": {
       "model_id": "",
       "version_major": 2,
       "version_minor": 0
      },
      "text/plain": [
       "FloatProgress(value=0.0, bar_style='info', description='Progress:', layout=Layout(height='25px', width='50%'),…"
      ]
     },
     "metadata": {},
     "output_type": "display_data"
    },
    {
     "data": {
      "image/png": "[encoded data removed]",
      "text/plain": [
       "<IPython.core.display.Image object>"
      ]
     },
     "metadata": {},
     "output_type": "display_data"
    }
   ],
   "source": [
    "fig = plt.figure(figsize=(6.4*1.5, 4.8*1.2))\n",
    "sns.barplot(data=feat_importance.iloc[:7], y='feat', x='importance', color='midnightblue')\n",
    "plt.ylabel('Feature Name')\n",
    "plt.xlabel('Importance Score')\n",
    "plt.title('Top Contributing Features to Predicting Probability of Severe Hailstorm')\n",
    "plt.tight_layout()\n",
    "# plt.savefig('s3://bdcc2023-studio-calbao1/e-7RR2MRIR6Y0XJQ9X5DRQBRYLX/feat_imp.jpg', dpi=200)\n",
    "%matplot plt"
   ]
  },
  {
   "cell_type": "code",
   "execution_count": 14,
   "id": "6eda9565-9d86-42bb-be6b-a27e49493a80",
   "metadata": {
    "execution": {
     "iopub.execute_input": "2023-06-02T05:13:53.962003Z",
     "iopub.status.busy": "2023-06-02T05:13:53.961786Z",
     "iopub.status.idle": "2023-06-02T05:13:54.709812Z",
     "shell.execute_reply": "2023-06-02T05:13:54.709077Z",
     "shell.execute_reply.started": "2023-06-02T05:13:53.961981Z"
    }
   },
   "outputs": [
    {
     "data": {
      "application/vnd.jupyter.widget-view+json": {
       "model_id": "41df6d52c09e4f8692dff15cbac97084",
       "version_major": 2,
       "version_minor": 0
      },
      "text/plain": [
       "VBox()"
      ]
     },
     "metadata": {},
     "output_type": "display_data"
    },
    {
     "data": {
      "application/vnd.jupyter.widget-view+json": {
       "model_id": "",
       "version_major": 2,
       "version_minor": 0
      },
      "text/plain": [
       "FloatProgress(value=0.0, bar_style='info', description='Progress:', layout=Layout(height='25px', width='50%'),…"
      ]
     },
     "metadata": {},
     "output_type": "display_data"
    }
   ],
   "source": [
    "predictions = (\n",
    "    model_trained\n",
    "    .transform(df_test)\n",
    "    .withColumn('prediction_rounded', F.round(F.col('prediction') / 10) * 10)\n",
    ")"
   ]
  },
  {
   "cell_type": "code",
   "execution_count": 15,
   "id": "e31cb70b-c9de-44ed-b668-f7fccbc16b41",
   "metadata": {
    "execution": {
     "iopub.execute_input": "2023-06-02T05:13:54.711039Z",
     "iopub.status.busy": "2023-06-02T05:13:54.710808Z",
     "iopub.status.idle": "2023-06-02T06:04:51.921993Z",
     "shell.execute_reply": "2023-06-02T06:04:51.921223Z",
     "shell.execute_reply.started": "2023-06-02T05:13:54.711016Z"
    },
    "tags": []
   },
   "outputs": [
    {
     "data": {
      "application/vnd.jupyter.widget-view+json": {
       "model_id": "6f65333839b045f6814235c4fc8848a5",
       "version_major": 2,
       "version_minor": 0
      },
      "text/plain": [
       "VBox()"
      ]
     },
     "metadata": {},
     "output_type": "display_data"
    },
    {
     "data": {
      "application/vnd.jupyter.widget-view+json": {
       "model_id": "",
       "version_major": 2,
       "version_minor": 0
      },
      "text/plain": [
       "FloatProgress(value=0.0, bar_style='info', description='Progress:', layout=Layout(height='25px', width='50%'),…"
      ]
     },
     "metadata": {},
     "output_type": "display_data"
    }
   ],
   "source": [
    "r2_evaluator = RegressionEvaluator(predictionCol='prediction', labelCol='SEVPROB', metricName='r2')\n",
    "rmse_evaluator = RegressionEvaluator(predictionCol='prediction', labelCol='SEVPROB', metricName='rmse')\n",
    "mae_evaluator = RegressionEvaluator(predictionCol='prediction', labelCol='SEVPROB', metricName='mae')\n",
    "\n",
    "r2 = r2_evaluator.evaluate(predictions)  \n",
    "rmse = rmse_evaluator.evaluate(predictions)\n",
    "mae = mae_evaluator.evaluate(predictions)"
   ]
  },
  {
   "cell_type": "code",
   "execution_count": 16,
   "id": "fc022225-dffd-4a5b-b87c-d4cc2bfca9ab",
   "metadata": {
    "execution": {
     "iopub.execute_input": "2023-06-02T06:04:51.923196Z",
     "iopub.status.busy": "2023-06-02T06:04:51.922848Z",
     "iopub.status.idle": "2023-06-02T06:04:51.961292Z",
     "shell.execute_reply": "2023-06-02T06:04:51.960575Z",
     "shell.execute_reply.started": "2023-06-02T06:04:51.923169Z"
    },
    "tags": []
   },
   "outputs": [
    {
     "data": {
      "application/vnd.jupyter.widget-view+json": {
       "model_id": "5b3e68abddbf48c68363c951719f9cdf",
       "version_major": 2,
       "version_minor": 0
      },
      "text/plain": [
       "VBox()"
      ]
     },
     "metadata": {},
     "output_type": "display_data"
    },
    {
     "data": {
      "application/vnd.jupyter.widget-view+json": {
       "model_id": "",
       "version_major": 2,
       "version_minor": 0
      },
      "text/plain": [
       "FloatProgress(value=0.0, bar_style='info', description='Progress:', layout=Layout(height='25px', width='50%'),…"
      ]
     },
     "metadata": {},
     "output_type": "display_data"
    },
    {
     "name": "stdout",
     "output_type": "stream",
     "text": [
      "R2 = 0.3965168839601919\n",
      "RMSE = 14.333321080268508\n",
      "MAE  = 8.87812081823531"
     ]
    }
   ],
   "source": [
    "print(f'R2 = {r2}')\n",
    "print(f'RMSE = {rmse}')\n",
    "print(f'MAE  = {mae}')"
   ]
  },
  {
   "cell_type": "code",
   "execution_count": 17,
   "id": "ec688b71-1983-461d-bdcf-53cce5e7d2c6",
   "metadata": {
    "execution": {
     "iopub.execute_input": "2023-06-02T01:57:43.505998Z",
     "iopub.status.busy": "2023-06-02T01:57:43.505699Z",
     "iopub.status.idle": "2023-06-02T01:57:43.545760Z",
     "shell.execute_reply": "2023-06-02T01:57:43.545070Z",
     "shell.execute_reply.started": "2023-06-02T01:57:43.505973Z"
    },
    "tags": []
   },
   "outputs": [
    {
     "data": {
      "application/vnd.jupyter.widget-view+json": {
       "model_id": "c2bc4661efdc4e6fbfc0c58303fdfcd7",
       "version_major": 2,
       "version_minor": 0
      },
      "text/plain": [
       "VBox()"
      ]
     },
     "metadata": {},
     "output_type": "display_data"
    },
    {
     "data": {
      "application/vnd.jupyter.widget-view+json": {
       "model_id": "",
       "version_major": 2,
       "version_minor": 0
      },
      "text/plain": [
       "FloatProgress(value=0.0, bar_style='info', description='Progress:', layout=Layout(height='25px', width='50%'),…"
      ]
     },
     "metadata": {},
     "output_type": "display_data"
    },
    {
     "name": "stdout",
     "output_type": "stream",
     "text": [
      "'hello'"
     ]
    }
   ],
   "source": [
    "'hello'"
   ]
  },
  {
   "cell_type": "code",
   "execution_count": null,
   "id": "0795f1ea-a2b3-46bc-b77d-6c06ea1ccf5b",
   "metadata": {},
   "outputs": [],
   "source": []
  }
 ],
 "metadata": {
  "kernelspec": {
   "display_name": "PySpark",
   "language": "python",
   "name": "pysparkkernel"
  },
  "language_info": {
   "codemirror_mode": {
    "name": "python",
    "version": 3
   },
   "file_extension": ".py",
   "mimetype": "text/x-python",
   "name": "pyspark",
   "pygments_lexer": "python3"
  }
 },
 "nbformat": 4,
 "nbformat_minor": 5
}
