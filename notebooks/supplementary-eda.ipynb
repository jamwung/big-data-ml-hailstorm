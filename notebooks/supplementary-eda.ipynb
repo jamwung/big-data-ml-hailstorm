{
 "cells": [
  {
   "cell_type": "code",
   "execution_count": 1,
   "id": "858cf977",
   "metadata": {
    "execution": {
     "iopub.execute_input": "2023-06-09T12:51:09.613202Z",
     "iopub.status.busy": "2023-06-09T12:51:09.612850Z",
     "iopub.status.idle": "2023-06-09T12:51:59.866065Z",
     "shell.execute_reply": "2023-06-09T12:51:59.865161Z",
     "shell.execute_reply.started": "2023-06-09T12:51:09.613173Z"
    },
    "tags": []
   },
   "outputs": [
    {
     "data": {
      "application/vnd.jupyter.widget-view+json": {
       "model_id": "4eb695e60dcf4b8abc97743d11a22718",
       "version_major": 2,
       "version_minor": 0
      },
      "text/plain": [
       "VBox()"
      ]
     },
     "metadata": {},
     "output_type": "display_data"
    },
    {
     "name": "stdout",
     "output_type": "stream",
     "text": [
      "Starting Spark application\n"
     ]
    },
    {
     "data": {
      "text/html": [
       "<table>\n<tbody><tr><th>ID</th><th>YARN Application ID</th><th>Kind</th><th>State</th><th>Spark UI</th><th>Driver log</th><th>User</th><th>Current session?</th></tr><tr><td>0</td><td>application_1686314838885_0001</td><td>pyspark</td><td>idle</td><td><a target=\"_blank\" href=\"http://ip-172-31-37-54.ap-southeast-2.compute.internal:20888/proxy/application_1686314838885_0001/\" class=\"emr-proxy-link j-2SY3FNHNA3E30 application_1686314838885_0001\" emr-resource=\"j-2SY3FNHNA3E30\n\" application-id=\"application_1686314838885_0001\">Link</a></td><td><a target=\"_blank\" href=\"http://ip-172-31-41-46.ap-southeast-2.compute.internal:8042/node/containerlogs/container_1686314838885_0001_01_000001/livy\">Link</a></td><td>None</td><td>✔</td></tr></tbody></table>"
      ],
      "text/plain": [
       "<IPython.core.display.HTML object>"
      ]
     },
     "metadata": {},
     "output_type": "display_data"
    },
    {
     "data": {
      "application/vnd.jupyter.widget-view+json": {
       "model_id": "",
       "version_major": 2,
       "version_minor": 0
      },
      "text/plain": [
       "FloatProgress(value=0.0, bar_style='info', description='Progress:', layout=Layout(height='25px', width='50%'),…"
      ]
     },
     "metadata": {},
     "output_type": "display_data"
    },
    {
     "name": "stdout",
     "output_type": "stream",
     "text": [
      "SparkSession available as 'spark'.\n"
     ]
    },
    {
     "data": {
      "application/vnd.jupyter.widget-view+json": {
       "model_id": "",
       "version_major": 2,
       "version_minor": 0
      },
      "text/plain": [
       "FloatProgress(value=0.0, bar_style='info', description='Progress:', layout=Layout(height='25px', width='50%'),…"
      ]
     },
     "metadata": {},
     "output_type": "display_data"
    },
    {
     "name": "stdout",
     "output_type": "stream",
     "text": [
      "<pyspark.sql.session.SparkSession object at 0x7f70d0cf6690>"
     ]
    }
   ],
   "source": [
    "spark"
   ]
  },
  {
   "cell_type": "code",
   "execution_count": 2,
   "id": "4834b7b0",
   "metadata": {
    "execution": {
     "iopub.execute_input": "2023-06-09T12:51:59.868071Z",
     "iopub.status.busy": "2023-06-09T12:51:59.867523Z",
     "iopub.status.idle": "2023-06-09T12:53:03.456428Z",
     "shell.execute_reply": "2023-06-09T12:53:03.455367Z",
     "shell.execute_reply.started": "2023-06-09T12:51:59.868033Z"
    }
   },
   "outputs": [
    {
     "data": {
      "application/vnd.jupyter.widget-view+json": {
       "model_id": "6443b749737449059c705e4ce4588110",
       "version_major": 2,
       "version_minor": 0
      },
      "text/plain": [
       "VBox()"
      ]
     },
     "metadata": {},
     "output_type": "display_data"
    },
    {
     "data": {
      "application/vnd.jupyter.widget-view+json": {
       "model_id": "",
       "version_major": 2,
       "version_minor": 0
      },
      "text/plain": [
       "FloatProgress(value=0.0, bar_style='info', description='Progress:', layout=Layout(height='25px', width='50%'),…"
      ]
     },
     "metadata": {},
     "output_type": "display_data"
    },
    {
     "name": "stdout",
     "output_type": "stream",
     "text": [
      "Collecting pandas\n",
      "  Downloading pandas-1.3.5-cp37-cp37m-manylinux_2_17_x86_64.manylinux2014_x86_64.whl (11.3 MB)\n",
      "Collecting python-dateutil>=2.7.3\n",
      "  Downloading python_dateutil-2.8.2-py2.py3-none-any.whl (247 kB)\n",
      "Requirement already satisfied: numpy>=1.17.3; platform_machine != \"aarch64\" and platform_machine != \"arm64\" and python_version < \"3.10\" in /usr/local/lib64/python3.7/site-packages (from pandas) (1.20.0)\n",
      "Requirement already satisfied: pytz>=2017.3 in /usr/local/lib/python3.7/site-packages (from pandas) (2022.7)\n",
      "Requirement already satisfied: six>=1.5 in /usr/local/lib/python3.7/site-packages (from python-dateutil>=2.7.3->pandas) (1.13.0)\n",
      "Installing collected packages: python-dateutil, pandas\n",
      "Successfully installed pandas-1.3.5 python-dateutil-2.8.2\n",
      "\n",
      "Collecting matplotlib\n",
      "  Downloading matplotlib-3.5.3-cp37-cp37m-manylinux_2_5_x86_64.manylinux1_x86_64.whl (11.2 MB)\n",
      "Requirement already satisfied: numpy>=1.17 in /usr/local/lib64/python3.7/site-packages (from matplotlib) (1.20.0)\n",
      "Collecting packaging>=20.0\n",
      "  Downloading packaging-23.1-py3-none-any.whl (48 kB)\n",
      "Requirement already satisfied: python-dateutil>=2.7 in ./tmp/1686315114484-0/lib/python3.7/site-packages (from matplotlib) (2.8.2)\n",
      "Collecting pyparsing>=2.2.1\n",
      "  Downloading pyparsing-3.0.9-py3-none-any.whl (98 kB)\n",
      "Collecting cycler>=0.10\n",
      "  Downloading cycler-0.11.0-py3-none-any.whl (6.4 kB)\n",
      "Collecting kiwisolver>=1.0.1\n",
      "  Downloading kiwisolver-1.4.4-cp37-cp37m-manylinux_2_5_x86_64.manylinux1_x86_64.whl (1.1 MB)\n",
      "Collecting pillow>=6.2.0\n",
      "  Downloading Pillow-9.5.0-cp37-cp37m-manylinux_2_17_x86_64.manylinux2014_x86_64.whl (3.3 MB)\n",
      "Collecting fonttools>=4.22.0\n",
      "  Downloading fonttools-4.38.0-py3-none-any.whl (965 kB)\n",
      "Requirement already satisfied: six>=1.5 in /usr/local/lib/python3.7/site-packages (from python-dateutil>=2.7->matplotlib) (1.13.0)\n",
      "Collecting typing-extensions; python_version < \"3.8\"\n",
      "  Downloading typing_extensions-4.6.3-py3-none-any.whl (31 kB)\n",
      "Installing collected packages: packaging, pyparsing, cycler, typing-extensions, kiwisolver, pillow, fonttools, matplotlib\n",
      "Successfully installed cycler-0.11.0 fonttools-4.38.0 kiwisolver-1.4.4 matplotlib-3.5.3 packaging-23.1 pillow-9.5.0 pyparsing-3.0.9 typing-extensions-4.6.3\n",
      "\n",
      "Collecting fsspec\n",
      "  Downloading fsspec-2023.1.0-py3-none-any.whl (143 kB)\n",
      "Installing collected packages: fsspec\n",
      "Successfully installed fsspec-2023.1.0\n",
      "\n",
      "Collecting s3fs\n",
      "  Downloading s3fs-2023.1.0-py3-none-any.whl (27 kB)\n",
      "Collecting aiohttp!=4.0.0a0,!=4.0.0a1\n",
      "  Downloading aiohttp-3.8.4-cp37-cp37m-manylinux_2_17_x86_64.manylinux2014_x86_64.whl (948 kB)\n",
      "Collecting aiobotocore~=2.4.2\n",
      "  Downloading aiobotocore-2.4.2-py3-none-any.whl (66 kB)\n",
      "Requirement already satisfied: fsspec==2023.1.0 in ./tmp/1686315114484-0/lib/python3.7/site-packages (from s3fs) (2023.1.0)\n",
      "Requirement already satisfied: typing-extensions>=3.7.4; python_version < \"3.8\" in ./tmp/1686315114484-0/lib/python3.7/site-packages (from aiohttp!=4.0.0a0,!=4.0.0a1->s3fs) (4.6.3)\n",
      "Collecting aiosignal>=1.1.2\n",
      "  Downloading aiosignal-1.3.1-py3-none-any.whl (7.6 kB)\n",
      "Collecting frozenlist>=1.1.1\n",
      "  Downloading frozenlist-1.3.3-cp37-cp37m-manylinux_2_5_x86_64.manylinux1_x86_64.manylinux_2_17_x86_64.manylinux2014_x86_64.whl (148 kB)\n",
      "Collecting async-timeout<5.0,>=4.0.0a3\n",
      "  Downloading async_timeout-4.0.2-py3-none-any.whl (5.8 kB)\n",
      "Collecting multidict<7.0,>=4.5\n",
      "  Downloading multidict-6.0.4-cp37-cp37m-manylinux_2_17_x86_64.manylinux2014_x86_64.whl (94 kB)\n",
      "Collecting asynctest==0.13.0; python_version < \"3.8\"\n",
      "  Downloading asynctest-0.13.0-py3-none-any.whl (26 kB)\n",
      "Collecting attrs>=17.3.0\n",
      "  Downloading attrs-23.1.0-py3-none-any.whl (61 kB)\n",
      "Collecting charset-normalizer<4.0,>=2.0\n",
      "  Downloading charset_normalizer-3.1.0-cp37-cp37m-manylinux_2_17_x86_64.manylinux2014_x86_64.whl (171 kB)\n",
      "Collecting yarl<2.0,>=1.0\n",
      "  Downloading yarl-1.9.2-cp37-cp37m-manylinux_2_17_x86_64.manylinux2014_x86_64.whl (236 kB)\n",
      "Collecting botocore<1.27.60,>=1.27.59\n",
      "  Downloading botocore-1.27.59-py3-none-any.whl (9.1 MB)\n",
      "Collecting aioitertools>=0.5.1\n",
      "  Downloading aioitertools-0.11.0-py3-none-any.whl (23 kB)\n",
      "Collecting wrapt>=1.10.10\n",
      "  Downloading wrapt-1.15.0-cp37-cp37m-manylinux_2_5_x86_64.manylinux1_x86_64.manylinux_2_17_x86_64.manylinux2014_x86_64.whl (75 kB)\n",
      "Collecting importlib-metadata; python_version < \"3.8\"\n",
      "  Downloading importlib_metadata-6.6.0-py3-none-any.whl (22 kB)\n",
      "Collecting idna>=2.0\n",
      "  Downloading idna-3.4-py3-none-any.whl (61 kB)\n",
      "Requirement already satisfied: jmespath<2.0.0,>=0.7.1 in /usr/local/lib/python3.7/site-packages (from botocore<1.27.60,>=1.27.59->aiobotocore~=2.4.2->s3fs) (1.0.1)\n",
      "Collecting urllib3<1.27,>=1.25.4\n",
      "  Downloading urllib3-1.26.16-py2.py3-none-any.whl (143 kB)\n",
      "Requirement already satisfied: python-dateutil<3.0.0,>=2.1 in ./tmp/1686315114484-0/lib/python3.7/site-packages (from botocore<1.27.60,>=1.27.59->aiobotocore~=2.4.2->s3fs) (2.8.2)\n",
      "Collecting zipp>=0.5\n",
      "  Downloading zipp-3.15.0-py3-none-any.whl (6.8 kB)\n",
      "Requirement already satisfied: six>=1.5 in /usr/local/lib/python3.7/site-packages (from python-dateutil<3.0.0,>=2.1->botocore<1.27.60,>=1.27.59->aiobotocore~=2.4.2->s3fs) (1.13.0)\n",
      "Installing collected packages: frozenlist, aiosignal, async-timeout, multidict, asynctest, zipp, importlib-metadata, attrs, charset-normalizer, idna, yarl, aiohttp, urllib3, botocore, aioitertools, wrapt, aiobotocore, s3fs\n",
      "Successfully installed aiobotocore-2.4.2 aiohttp-3.8.4 aioitertools-0.11.0 aiosignal-1.3.1 async-timeout-4.0.2 asynctest-0.13.0 attrs-23.1.0 botocore-1.27.59 charset-normalizer-3.1.0 frozenlist-1.3.3 idna-3.4 importlib-metadata-6.6.0 multidict-6.0.4 s3fs-2023.1.0 urllib3-1.26.16 wrapt-1.15.0 yarl-1.9.2 zipp-3.15.0\n",
      "\n",
      "Collecting seaborn\n",
      "  Downloading seaborn-0.12.2-py3-none-any.whl (293 kB)\n",
      "Requirement already satisfied: pandas>=0.25 in ./tmp/1686315114484-0/lib/python3.7/site-packages (from seaborn) (1.3.5)\n",
      "Requirement already satisfied: numpy!=1.24.0,>=1.17 in /usr/local/lib64/python3.7/site-packages (from seaborn) (1.20.0)\n",
      "Requirement already satisfied: typing_extensions; python_version < \"3.8\" in ./tmp/1686315114484-0/lib/python3.7/site-packages (from seaborn) (4.6.3)\n",
      "Requirement already satisfied: matplotlib!=3.6.1,>=3.1 in ./tmp/1686315114484-0/lib/python3.7/site-packages (from seaborn) (3.5.3)\n",
      "Requirement already satisfied: python-dateutil>=2.7.3 in ./tmp/1686315114484-0/lib/python3.7/site-packages (from pandas>=0.25->seaborn) (2.8.2)\n",
      "Requirement already satisfied: pytz>=2017.3 in /usr/local/lib/python3.7/site-packages (from pandas>=0.25->seaborn) (2022.7)\n",
      "Requirement already satisfied: packaging>=20.0 in ./tmp/1686315114484-0/lib/python3.7/site-packages (from matplotlib!=3.6.1,>=3.1->seaborn) (23.1)\n",
      "Requirement already satisfied: pyparsing>=2.2.1 in ./tmp/1686315114484-0/lib/python3.7/site-packages (from matplotlib!=3.6.1,>=3.1->seaborn) (3.0.9)\n",
      "Requirement already satisfied: cycler>=0.10 in ./tmp/1686315114484-0/lib/python3.7/site-packages (from matplotlib!=3.6.1,>=3.1->seaborn) (0.11.0)\n",
      "Requirement already satisfied: kiwisolver>=1.0.1 in ./tmp/1686315114484-0/lib/python3.7/site-packages (from matplotlib!=3.6.1,>=3.1->seaborn) (1.4.4)\n",
      "Requirement already satisfied: pillow>=6.2.0 in ./tmp/1686315114484-0/lib/python3.7/site-packages (from matplotlib!=3.6.1,>=3.1->seaborn) (9.5.0)\n",
      "Requirement already satisfied: fonttools>=4.22.0 in ./tmp/1686315114484-0/lib/python3.7/site-packages (from matplotlib!=3.6.1,>=3.1->seaborn) (4.38.0)\n",
      "Requirement already satisfied: six>=1.5 in /usr/local/lib/python3.7/site-packages (from python-dateutil>=2.7.3->pandas>=0.25->seaborn) (1.13.0)\n",
      "Installing collected packages: seaborn\n",
      "Successfully installed seaborn-0.12.2\n",
      "\n",
      "Collecting plotly\n",
      "  Downloading plotly-5.15.0-py2.py3-none-any.whl (15.5 MB)\n",
      "Collecting tenacity>=6.2.0\n",
      "  Downloading tenacity-8.2.2-py3-none-any.whl (24 kB)\n",
      "Requirement already satisfied: packaging in ./tmp/1686315114484-0/lib/python3.7/site-packages (from plotly) (23.1)\n",
      "Installing collected packages: tenacity, plotly\n",
      "Successfully installed plotly-5.15.0 tenacity-8.2.2\n",
      "\n",
      "WARNING: The directory '/home/.cache/pip' or its parent directory is not owned or is not writable by the current user. The cache has been disabled. Check the permissions and owner of that directory. If executing pip with sudo, you may want sudo's -H flag.\n",
      "\n",
      "WARNING: The directory '/home/.cache/pip' or its parent directory is not owned or is not writable by the current user. The cache has been disabled. Check the permissions and owner of that directory. If executing pip with sudo, you may want sudo's -H flag.\n",
      "\n",
      "WARNING: The directory '/home/.cache/pip' or its parent directory is not owned or is not writable by the current user. The cache has been disabled. Check the permissions and owner of that directory. If executing pip with sudo, you may want sudo's -H flag.\n",
      "\n",
      "WARNING: The directory '/home/.cache/pip' or its parent directory is not owned or is not writable by the current user. The cache has been disabled. Check the permissions and owner of that directory. If executing pip with sudo, you may want sudo's -H flag.\n",
      "\n",
      "WARNING: The directory '/home/.cache/pip' or its parent directory is not owned or is not writable by the current user. The cache has been disabled. Check the permissions and owner of that directory. If executing pip with sudo, you may want sudo's -H flag.\n",
      "\n",
      "WARNING: The directory '/home/.cache/pip' or its parent directory is not owned or is not writable by the current user. The cache has been disabled. Check the permissions and owner of that directory. If executing pip with sudo, you may want sudo's -H flag."
     ]
    }
   ],
   "source": [
    "sc.install_pypi_package('pandas')\n",
    "sc.install_pypi_package('matplotlib')\n",
    "sc.install_pypi_package('fsspec')\n",
    "sc.install_pypi_package('s3fs ')\n",
    "sc.install_pypi_package('seaborn')\n",
    "sc.install_pypi_package('plotly')"
   ]
  },
  {
   "cell_type": "code",
   "execution_count": 3,
   "id": "3de8f49e",
   "metadata": {
    "execution": {
     "iopub.execute_input": "2023-06-09T12:53:03.458874Z",
     "iopub.status.busy": "2023-06-09T12:53:03.458516Z",
     "iopub.status.idle": "2023-06-09T12:53:06.781282Z",
     "shell.execute_reply": "2023-06-09T12:53:06.780349Z",
     "shell.execute_reply.started": "2023-06-09T12:53:03.458838Z"
    }
   },
   "outputs": [
    {
     "data": {
      "application/vnd.jupyter.widget-view+json": {
       "model_id": "d5a2ec134bb740fca00a2ac08ea8cc23",
       "version_major": 2,
       "version_minor": 0
      },
      "text/plain": [
       "VBox()"
      ]
     },
     "metadata": {},
     "output_type": "display_data"
    },
    {
     "data": {
      "application/vnd.jupyter.widget-view+json": {
       "model_id": "",
       "version_major": 2,
       "version_minor": 0
      },
      "text/plain": [
       "FloatProgress(value=0.0, bar_style='info', description='Progress:', layout=Layout(height='25px', width='50%'),…"
      ]
     },
     "metadata": {},
     "output_type": "display_data"
    }
   ],
   "source": [
    "from pyspark.sql.types import *\n",
    "import pyspark.sql.functions as F\n",
    "from pyspark.sql.types import *\n",
    "import matplotlib.pyplot as plt\n",
    "import plotly.express as px\n",
    "import seaborn as sns\n",
    "import pandas as pd"
   ]
  },
  {
   "cell_type": "markdown",
   "id": "b85eadc9",
   "metadata": {},
   "source": [
    "## Loading the dataset"
   ]
  },
  {
   "cell_type": "markdown",
   "id": "2e57c9b3",
   "metadata": {},
   "source": [
    "### Hail"
   ]
  },
  {
   "cell_type": "code",
   "execution_count": 4,
   "id": "5d939d05",
   "metadata": {
    "execution": {
     "iopub.execute_input": "2023-06-09T12:53:06.783221Z",
     "iopub.status.busy": "2023-06-09T12:53:06.782647Z",
     "iopub.status.idle": "2023-06-09T12:53:24.138324Z",
     "shell.execute_reply": "2023-06-09T12:53:24.137370Z",
     "shell.execute_reply.started": "2023-06-09T12:53:06.783192Z"
    },
    "tags": []
   },
   "outputs": [
    {
     "data": {
      "application/vnd.jupyter.widget-view+json": {
       "model_id": "5bcf17c1bdcd458d9633ed335d42c70b",
       "version_major": 2,
       "version_minor": 0
      },
      "text/plain": [
       "VBox()"
      ]
     },
     "metadata": {},
     "output_type": "display_data"
    },
    {
     "data": {
      "application/vnd.jupyter.widget-view+json": {
       "model_id": "",
       "version_major": 2,
       "version_minor": 0
      },
      "text/plain": [
       "FloatProgress(value=0.0, bar_style='info', description='Progress:', layout=Layout(height='25px', width='50%'),…"
      ]
     },
     "metadata": {},
     "output_type": "display_data"
    }
   ],
   "source": [
    "s3_uri = 's3a://noaa-swdi-pds/hail-????.csv'\n",
    "\n",
    "schema = StructType([\n",
    "    StructField(\"ZTIME\", StringType(), nullable=True),\n",
    "    StructField(\"LON\", DoubleType(), nullable=True),\n",
    "    StructField(\"LAT\", DoubleType(), nullable=True),\n",
    "    StructField(\"WSR_ID\", StringType(), nullable=True),\n",
    "    StructField(\"CELL_ID\", StringType(), nullable=True),\n",
    "    StructField(\"RANGE\", DoubleType(), nullable=True),\n",
    "    StructField(\"AZIMUTH\", DoubleType(), nullable=True),\n",
    "    StructField(\"SEVPROP\", DoubleType(), nullable=True),\n",
    "    StructField(\"PROB\", DoubleType(), nullable=True)\n",
    "])\n",
    "\n",
    "hail = (\n",
    "    spark\n",
    "    .read\n",
    "    .csv(s3_uri, header=True, schema=schema)\n",
    "    .where(F.col('LON').isNotNull())\n",
    "    .withColumn('ZTIME', F.to_timestamp(F.col('ZTIME'), 'yyyyMMddHHmmss'))\n",
    "    .withColumn('ZDAY', F.date_format(F.col('ZTIME'), 'yyyy-MM-dd'))\n",
    "    .withColumn('ZYEAR', F.year('ZTIME'))\n",
    "    .withColumn('ZMONTH', F.month('ZTIME'))\n",
    "    )"
   ]
  },
  {
   "cell_type": "markdown",
   "id": "625bbd0e",
   "metadata": {},
   "source": [
    "### MDA"
   ]
  },
  {
   "cell_type": "code",
   "execution_count": 5,
   "id": "e1910723",
   "metadata": {
    "execution": {
     "iopub.execute_input": "2023-06-09T12:53:24.139628Z",
     "iopub.status.busy": "2023-06-09T12:53:24.139402Z",
     "iopub.status.idle": "2023-06-09T12:53:37.492179Z",
     "shell.execute_reply": "2023-06-09T12:53:37.491462Z",
     "shell.execute_reply.started": "2023-06-09T12:53:24.139605Z"
    }
   },
   "outputs": [
    {
     "data": {
      "application/vnd.jupyter.widget-view+json": {
       "model_id": "1cebed3f56f8446e9c4a23f078f154b7",
       "version_major": 2,
       "version_minor": 0
      },
      "text/plain": [
       "VBox()"
      ]
     },
     "metadata": {},
     "output_type": "display_data"
    },
    {
     "data": {
      "application/vnd.jupyter.widget-view+json": {
       "model_id": "",
       "version_major": 2,
       "version_minor": 0
      },
      "text/plain": [
       "FloatProgress(value=0.0, bar_style='info', description='Progress:', layout=Layout(height='25px', width='50%'),…"
      ]
     },
     "metadata": {},
     "output_type": "display_data"
    }
   ],
   "source": [
    "s3_uri = 's3a://noaa-swdi-pds/mda-????.csv'\n",
    "\n",
    "schema = StructType([\n",
    "    StructField(\"ZTIME\", StringType(), nullable=True),\n",
    "    StructField(\"LON\", DoubleType(), nullable=True),\n",
    "    StructField(\"LAT\", DoubleType(), nullable=True),\n",
    "    StructField(\"WSR_ID\", StringType(), nullable=True),\n",
    "    StructField(\"CELL_ID\", StringType(), nullable=True),\n",
    "    StructField(\"STR_RANK\", IntegerType(), nullable=True),\n",
    "    StructField(\"SCIT_ID\", StringType(), nullable=True),\n",
    "    StructField(\"RANGE\", DoubleType(), nullable=True),\n",
    "    StructField(\"AZIMUTH\", DoubleType(), nullable=True),\n",
    "    StructField(\"LL_ROT_VEL\", DoubleType(), nullable=True),\n",
    "    StructField(\"LL_DV\", DoubleType(), nullable=True),\n",
    "    StructField(\"LL_BASE\", DoubleType(), nullable=True),\n",
    "    StructField(\"DEPTH_KFT\", DoubleType(), nullable=True),\n",
    "    StructField(\"DPTH_STMRL\", DoubleType(), nullable=True),\n",
    "    StructField(\"MAX_RV_KFT\", DoubleType(), nullable=True),\n",
    "    StructField(\"MAX_RV_KTS\", DoubleType(), nullable=True),\n",
    "    StructField(\"TVS\", StringType(), nullable=True),\n",
    "    StructField(\"MOTION_DEG\", DoubleType(), nullable=True),\n",
    "    StructField(\"MOTION_KTS\", DoubleType(), nullable=True),\n",
    "    StructField(\"MSI\", StringType(), nullable=True)\n",
    "])\n",
    "\n",
    "mda = (\n",
    "    spark\n",
    "    .read\n",
    "    .csv(s3_uri, header=True, schema=schema)\n",
    "    .where(F.col('LON').isNotNull())\n",
    "    .withColumn('ZTIME', F.to_timestamp(F.col('ZTIME'), 'yyyyMMddHHmmss'))\n",
    "    .withColumn('ZDAY', F.date_format(F.col('ZTIME'), 'yyyy-MM-dd'))\n",
    "    .withColumn('ZYEAR', F.year('ZTIME'))\n",
    "    .withColumn('ZMONTH', F.month('ZTIME'))\n",
    ")"
   ]
  },
  {
   "cell_type": "markdown",
   "id": "2140ea66",
   "metadata": {},
   "source": [
    "### Mesocyclones"
   ]
  },
  {
   "cell_type": "code",
   "execution_count": 6,
   "id": "5cfdd8c9",
   "metadata": {
    "execution": {
     "iopub.execute_input": "2023-06-09T12:53:37.493441Z",
     "iopub.status.busy": "2023-06-09T12:53:37.493224Z",
     "iopub.status.idle": "2023-06-09T12:53:50.816543Z",
     "shell.execute_reply": "2023-06-09T12:53:50.815684Z",
     "shell.execute_reply.started": "2023-06-09T12:53:37.493419Z"
    }
   },
   "outputs": [
    {
     "data": {
      "application/vnd.jupyter.widget-view+json": {
       "model_id": "46ca0b98fbcb4094bdcc18a1e1b70d83",
       "version_major": 2,
       "version_minor": 0
      },
      "text/plain": [
       "VBox()"
      ]
     },
     "metadata": {},
     "output_type": "display_data"
    },
    {
     "data": {
      "application/vnd.jupyter.widget-view+json": {
       "model_id": "",
       "version_major": 2,
       "version_minor": 0
      },
      "text/plain": [
       "FloatProgress(value=0.0, bar_style='info', description='Progress:', layout=Layout(height='25px', width='50%'),…"
      ]
     },
     "metadata": {},
     "output_type": "display_data"
    }
   ],
   "source": [
    "s3_uri = 's3a://noaa-swdi-pds/meso-????.csv' # no 2021\n",
    "\n",
    "schema = StructType([\n",
    "    StructField(\"ZTIME\", StringType(), nullable=True),\n",
    "    StructField(\"LON\", DoubleType(), nullable=True),\n",
    "    StructField(\"LAT\", DoubleType(), nullable=True),\n",
    "    StructField(\"WSR_ID\", StringType(), nullable=True),\n",
    "    StructField(\"CELL_ID\", StringType(), nullable=True),\n",
    "    StructField(\"CELL_TYPE\", StringType(), nullable=True),\n",
    "    StructField(\"RANGE\", DoubleType(), nullable=True),\n",
    "    StructField(\"AZIMUTH\", DoubleType(), nullable=True),\n",
    "    StructField(\"BASE_HEIGHT\", DoubleType(), nullable=True),\n",
    "    StructField(\"TOP_HEIGHT\", DoubleType(), nullable=True),\n",
    "    StructField(\"HEIGHT\", DoubleType(), nullable=True),\n",
    "    StructField(\"RADIUS\", DoubleType(), nullable=True),\n",
    "    StructField(\"AZDIA\", DoubleType(), nullable=True),\n",
    "    StructField(\"SHEAR\", DoubleType(), nullable=True)\n",
    "])\n",
    "\n",
    "meso = (\n",
    "    spark\n",
    "    .read\n",
    "    .csv(s3_uri, header=True, schema=schema)\n",
    "    .where(F.col('LON').isNotNull())\n",
    "    .withColumn('ZTIME', F.to_timestamp(F.col('ZTIME'), 'yyyyMMddHHmmss'))\n",
    "    .withColumn('ZDAY', F.date_format(F.col('ZTIME'), 'yyyy-MM-dd'))\n",
    "    .withColumn('ZYEAR', F.year('ZTIME'))\n",
    "    .withColumn('ZMONTH', F.month('ZTIME'))\n",
    ")"
   ]
  },
  {
   "cell_type": "markdown",
   "id": "bab6649e",
   "metadata": {},
   "source": [
    "### PLSR"
   ]
  },
  {
   "cell_type": "code",
   "execution_count": 7,
   "id": "45035cea",
   "metadata": {
    "execution": {
     "iopub.execute_input": "2023-06-09T12:53:50.817828Z",
     "iopub.status.busy": "2023-06-09T12:53:50.817601Z",
     "iopub.status.idle": "2023-06-09T12:54:00.121302Z",
     "shell.execute_reply": "2023-06-09T12:54:00.120234Z",
     "shell.execute_reply.started": "2023-06-09T12:53:50.817806Z"
    }
   },
   "outputs": [
    {
     "data": {
      "application/vnd.jupyter.widget-view+json": {
       "model_id": "d54fccf539c741c0856fd3710d7f7d3d",
       "version_major": 2,
       "version_minor": 0
      },
      "text/plain": [
       "VBox()"
      ]
     },
     "metadata": {},
     "output_type": "display_data"
    },
    {
     "data": {
      "application/vnd.jupyter.widget-view+json": {
       "model_id": "",
       "version_major": 2,
       "version_minor": 0
      },
      "text/plain": [
       "FloatProgress(value=0.0, bar_style='info', description='Progress:', layout=Layout(height='25px', width='50%'),…"
      ]
     },
     "metadata": {},
     "output_type": "display_data"
    }
   ],
   "source": [
    "s3_uri = 's3a://noaa-swdi-pds/plsr-????.csv' # no 2021\n",
    "\n",
    "schema = StructType([\n",
    "    StructField(\"ZTIME\", StringType(), nullable=True),\n",
    "    StructField(\"LON\", DoubleType(), nullable=True),\n",
    "    StructField(\"LAT\", DoubleType(), nullable=True),\n",
    "    StructField(\"EVENT\", StringType(), nullable=True),\n",
    "    StructField(\"MAGNITUDE\", DoubleType(), nullable=True),\n",
    "    StructField(\"CITY\", StringType(), nullable=True),\n",
    "    StructField(\"COUNTY\", StringType(), nullable=True),\n",
    "    StructField(\"STATE\", StringType(), nullable=True),\n",
    "    StructField(\"SOURCE\", StringType(), nullable=True),\n",
    "    StructField(\"WFO\", StringType(), nullable=True),\n",
    "    StructField(\"REMARKS\", StringType(), nullable=True)\n",
    "])\n",
    "\n",
    "plsr = (\n",
    "    spark\n",
    "    .read\n",
    "    .csv(s3_uri, header=True, schema=schema)\n",
    "    .where(F.col('LON').isNotNull())\n",
    "    .withColumn('ZTIME', F.to_timestamp(F.col('ZTIME'), 'yyyyMMddHHmmss'))\n",
    "    .withColumn('ZDAY', F.date_format(F.col('ZTIME'), 'yyyy-MM-dd'))\n",
    "    .withColumn('ZYEAR', F.year('ZTIME'))\n",
    "    .withColumn('ZMONTH', F.month('ZTIME'))\n",
    ")"
   ]
  },
  {
   "cell_type": "markdown",
   "id": "60c94de2",
   "metadata": {},
   "source": [
    "### Storm Structure"
   ]
  },
  {
   "cell_type": "code",
   "execution_count": 8,
   "id": "42dd82c1",
   "metadata": {
    "execution": {
     "iopub.execute_input": "2023-06-09T12:54:00.125126Z",
     "iopub.status.busy": "2023-06-09T12:54:00.124831Z",
     "iopub.status.idle": "2023-06-09T12:54:13.462712Z",
     "shell.execute_reply": "2023-06-09T12:54:13.461726Z",
     "shell.execute_reply.started": "2023-06-09T12:54:00.125100Z"
    }
   },
   "outputs": [
    {
     "data": {
      "application/vnd.jupyter.widget-view+json": {
       "model_id": "741320283d2f48e195eab05b2137ebb3",
       "version_major": 2,
       "version_minor": 0
      },
      "text/plain": [
       "VBox()"
      ]
     },
     "metadata": {},
     "output_type": "display_data"
    },
    {
     "data": {
      "application/vnd.jupyter.widget-view+json": {
       "model_id": "",
       "version_major": 2,
       "version_minor": 0
      },
      "text/plain": [
       "FloatProgress(value=0.0, bar_style='info', description='Progress:', layout=Layout(height='25px', width='50%'),…"
      ]
     },
     "metadata": {},
     "output_type": "display_data"
    }
   ],
   "source": [
    "s3_uri = 's3a://noaa-swdi-pds/structure-????.csv'\n",
    "\n",
    "schema = StructType([\n",
    "    StructField(\"ZTIME\", StringType(), nullable=True),\n",
    "    StructField(\"LON\", DoubleType(), nullable=True),\n",
    "    StructField(\"LAT\", DoubleType(), nullable=True),\n",
    "    StructField(\"WSR_ID\", StringType(), nullable=True),\n",
    "    StructField(\"CELL_ID\", StringType(), nullable=True),\n",
    "    StructField(\"RANGE\", DoubleType(), nullable=True),\n",
    "    StructField(\"AZIMUTH\", DoubleType(), nullable=True),\n",
    "    StructField(\"BASE_HEIGHT\", DoubleType(), nullable=True),\n",
    "    StructField(\"TOP_HEIGHT\", DoubleType(), nullable=True),\n",
    "    StructField(\"VIL\", DoubleType(), nullable=True),\n",
    "    StructField(\"MAX_REFLECT\", DoubleType(), nullable=True),\n",
    "    StructField(\"HEIGHT\", DoubleType(), nullable=True)\n",
    "])\n",
    "\n",
    "structure = (\n",
    "    spark\n",
    "    .read\n",
    "    .csv(s3_uri, header=True, schema=schema)\n",
    "    .where(F.col('LON').isNotNull())\n",
    "    .withColumn('ZTIME', F.to_timestamp(F.col('ZTIME'), 'yyyyMMddHHmmss'))\n",
    "    .withColumn('ZDAY', F.date_format(F.col('ZTIME'), 'yyyy-MM-dd'))\n",
    "    .withColumn('ZYEAR', F.year('ZTIME'))\n",
    "    .withColumn('ZMONTH', F.month('ZTIME'))\n",
    ")"
   ]
  },
  {
   "cell_type": "markdown",
   "id": "45662ca5",
   "metadata": {},
   "source": [
    "### TVS"
   ]
  },
  {
   "cell_type": "code",
   "execution_count": 9,
   "id": "29eae3ff",
   "metadata": {
    "execution": {
     "iopub.execute_input": "2023-06-09T12:54:13.464800Z",
     "iopub.status.busy": "2023-06-09T12:54:13.464425Z",
     "iopub.status.idle": "2023-06-09T12:54:26.776218Z",
     "shell.execute_reply": "2023-06-09T12:54:26.775443Z",
     "shell.execute_reply.started": "2023-06-09T12:54:13.464761Z"
    }
   },
   "outputs": [
    {
     "data": {
      "application/vnd.jupyter.widget-view+json": {
       "model_id": "496235ead22f455bb6a0a8ba2b4e33a3",
       "version_major": 2,
       "version_minor": 0
      },
      "text/plain": [
       "VBox()"
      ]
     },
     "metadata": {},
     "output_type": "display_data"
    },
    {
     "data": {
      "application/vnd.jupyter.widget-view+json": {
       "model_id": "",
       "version_major": 2,
       "version_minor": 0
      },
      "text/plain": [
       "FloatProgress(value=0.0, bar_style='info', description='Progress:', layout=Layout(height='25px', width='50%'),…"
      ]
     },
     "metadata": {},
     "output_type": "display_data"
    }
   ],
   "source": [
    "s3_uri = 's3a://noaa-swdi-pds/tvs-????.csv'\n",
    "\n",
    "schema = StructType([\n",
    "    StructField(\"ZTIME\", StringType(), True),\n",
    "    StructField(\"LON\", DoubleType(), True),\n",
    "    StructField(\"LAT\", DoubleType(), True),\n",
    "    StructField(\"WSR_ID\", StringType(), True),\n",
    "    StructField(\"CELL_ID\", StringType(), True),\n",
    "    StructField(\"CELL_TYPE\", StringType(), True),\n",
    "    StructField(\"RANGE\", DoubleType(), True),\n",
    "    StructField(\"AZIMUTH\", DoubleType(), True),\n",
    "    StructField(\"AVGDV\", DoubleType(), True),\n",
    "    StructField(\"LLDV\", DoubleType(), True),\n",
    "    StructField(\"MXDV\", DoubleType(), True),\n",
    "    StructField(\"MXDV_HEIGHT\", DoubleType(), True),\n",
    "    StructField(\"DEPTH\", DoubleType(), True),\n",
    "    StructField(\"BASE\", DoubleType(), True),\n",
    "    StructField(\"TOP\", DoubleType(), True),\n",
    "    StructField(\"MAX_SHEAR\", DoubleType(), True),\n",
    "    StructField(\"MAX_SHEAR_HEIGHT\", DoubleType(), True)\n",
    "])\n",
    "\n",
    "tvs = (\n",
    "    spark\n",
    "    .read\n",
    "    .csv(s3_uri, header=True, schema=schema)\n",
    "    .where(F.col('LON').isNotNull())\n",
    "    .withColumn('ZTIME', F.to_timestamp(F.col('ZTIME'), 'yyyyMMddHHmmss'))\n",
    "    .withColumn('ZDAY', F.date_format(F.col('ZTIME'), 'yyyy-MM-dd'))\n",
    "    .withColumn('ZYEAR', F.year('ZTIME'))\n",
    "    .withColumn('ZMONTH', F.month('ZTIME'))\n",
    ")"
   ]
  },
  {
   "cell_type": "markdown",
   "id": "374911ae",
   "metadata": {},
   "source": [
    "### Warnings"
   ]
  },
  {
   "cell_type": "code",
   "execution_count": 10,
   "id": "00ccbae3",
   "metadata": {
    "execution": {
     "iopub.execute_input": "2023-06-09T12:54:26.777492Z",
     "iopub.status.busy": "2023-06-09T12:54:26.777256Z",
     "iopub.status.idle": "2023-06-09T12:54:36.087428Z",
     "shell.execute_reply": "2023-06-09T12:54:36.086631Z",
     "shell.execute_reply.started": "2023-06-09T12:54:26.777468Z"
    }
   },
   "outputs": [
    {
     "data": {
      "application/vnd.jupyter.widget-view+json": {
       "model_id": "fbed725700ce4658a3aa3cc12b0cc16d",
       "version_major": 2,
       "version_minor": 0
      },
      "text/plain": [
       "VBox()"
      ]
     },
     "metadata": {},
     "output_type": "display_data"
    },
    {
     "data": {
      "application/vnd.jupyter.widget-view+json": {
       "model_id": "",
       "version_major": 2,
       "version_minor": 0
      },
      "text/plain": [
       "FloatProgress(value=0.0, bar_style='info', description='Progress:', layout=Layout(height='25px', width='50%'),…"
      ]
     },
     "metadata": {},
     "output_type": "display_data"
    }
   ],
   "source": [
    "s3_uri = 's3a://noaa-swdi-pds/warn-????.csv' # no 2017 onwards\n",
    "\n",
    "schema = StructType([\n",
    "    StructField(\"ISSUEDATE\", TimestampType(), True),\n",
    "    StructField(\"EXPIREDATE\", StringType(), True),\n",
    "    StructField(\"ISSUEWFO\", StringType(), True),\n",
    "    StructField(\"MESSAGEID\", StringType(), True),\n",
    "    StructField(\"MESSAGETYPE\", StringType(), True),\n",
    "    StructField(\"WARNINGTYPE\", StringType(), True),\n",
    "    StructField(\"POLYGON\", StringType(), True)\n",
    "])\n",
    "\n",
    "warn = (\n",
    "    spark\n",
    "    .read\n",
    "    .csv(s3_uri, header=True, schema=schema)\n",
    "    .where(F.col('ISSUEDATE').isNotNull())\n",
    ")"
   ]
  },
  {
   "cell_type": "markdown",
   "id": "b73d602d",
   "metadata": {},
   "source": [
    "## Exploratory Analysis"
   ]
  },
  {
   "cell_type": "markdown",
   "id": "426a1c8b",
   "metadata": {},
   "source": [
    "### Class frequencies over time"
   ]
  },
  {
   "cell_type": "code",
   "execution_count": 11,
   "id": "305fde59",
   "metadata": {
    "execution": {
     "iopub.execute_input": "2023-06-09T12:54:36.089538Z",
     "iopub.status.busy": "2023-06-09T12:54:36.089309Z",
     "iopub.status.idle": "2023-06-09T12:54:36.135706Z",
     "shell.execute_reply": "2023-06-09T12:54:36.135019Z",
     "shell.execute_reply.started": "2023-06-09T12:54:36.089514Z"
    }
   },
   "outputs": [
    {
     "data": {
      "application/vnd.jupyter.widget-view+json": {
       "model_id": "3c5e1a1258944e26a3a2e49b05ae3d0b",
       "version_major": 2,
       "version_minor": 0
      },
      "text/plain": [
       "VBox()"
      ]
     },
     "metadata": {},
     "output_type": "display_data"
    },
    {
     "data": {
      "application/vnd.jupyter.widget-view+json": {
       "model_id": "",
       "version_major": 2,
       "version_minor": 0
      },
      "text/plain": [
       "FloatProgress(value=0.0, bar_style='info', description='Progress:', layout=Layout(height='25px', width='50%'),…"
      ]
     },
     "metadata": {},
     "output_type": "display_data"
    }
   ],
   "source": [
    "def plot_lineplot(dataframe, x_column, y_column, ax, xlabel, ylabel, subplot_title):\n",
    "    dataframe[x_column] = pd.to_datetime(dataframe[x_column],\n",
    "                                         format='%Y-%m-%d')\n",
    "    \n",
    "    dataframe.set_index(x_column, inplace=True)\n",
    "\n",
    "    date_range = pd.date_range(start=dataframe.index.min(),\n",
    "                               end=dataframe.index.max(), freq='D')\n",
    "    \n",
    "    dataframe = dataframe.reindex(date_range, fill_value=0)\n",
    "\n",
    "    dataframe.reset_index(inplace=True)\n",
    "    dataframe.head()\n",
    "        \n",
    "    sns.lineplot(x=date_range, y=y_column, data=dataframe, color='#0a86df', ax=ax)\n",
    "\n",
    "    ax.set_xlabel(xlabel)\n",
    "    ax.set_ylabel(ylabel)\n",
    "    ax.set_title(subplot_title)"
   ]
  },
  {
   "cell_type": "code",
   "execution_count": 12,
   "id": "7de5f0f0",
   "metadata": {
    "execution": {
     "iopub.execute_input": "2023-06-09T12:54:36.136891Z",
     "iopub.status.busy": "2023-06-09T12:54:36.136620Z",
     "iopub.status.idle": "2023-06-09T13:09:34.393569Z",
     "shell.execute_reply": "2023-06-09T13:09:34.392618Z",
     "shell.execute_reply.started": "2023-06-09T12:54:36.136866Z"
    }
   },
   "outputs": [
    {
     "data": {
      "application/vnd.jupyter.widget-view+json": {
       "model_id": "f28f0318549e4c189f092b6545a9b273",
       "version_major": 2,
       "version_minor": 0
      },
      "text/plain": [
       "VBox()"
      ]
     },
     "metadata": {},
     "output_type": "display_data"
    },
    {
     "data": {
      "application/vnd.jupyter.widget-view+json": {
       "model_id": "",
       "version_major": 2,
       "version_minor": 0
      },
      "text/plain": [
       "FloatProgress(value=0.0, bar_style='info', description='Progress:', layout=Layout(height='25px', width='50%'),…"
      ]
     },
     "metadata": {},
     "output_type": "display_data"
    }
   ],
   "source": [
    "hail_daily = hail.groupby('ZDAY').count().toPandas()\n",
    "tvs_daily = tvs.groupby('ZDAY').count().toPandas()\n",
    "meso_daily = meso.groupby('ZDAY').count().toPandas()\n",
    "mda_daily = mda.groupby('ZDAY').count().toPandas()\n",
    "struc_daily = structure.groupby('ZDAY').count().toPandas()"
   ]
  },
  {
   "cell_type": "code",
   "execution_count": 13,
   "id": "5a0f23b5",
   "metadata": {
    "execution": {
     "iopub.execute_input": "2023-06-09T13:09:34.394793Z",
     "iopub.status.busy": "2023-06-09T13:09:34.394566Z",
     "iopub.status.idle": "2023-06-09T13:09:36.691081Z",
     "shell.execute_reply": "2023-06-09T13:09:36.687239Z",
     "shell.execute_reply.started": "2023-06-09T13:09:34.394770Z"
    },
    "tags": []
   },
   "outputs": [
    {
     "data": {
      "application/vnd.jupyter.widget-view+json": {
       "model_id": "732a49575c804a238d0f55049fd2556a",
       "version_major": 2,
       "version_minor": 0
      },
      "text/plain": [
       "VBox()"
      ]
     },
     "metadata": {},
     "output_type": "display_data"
    },
    {
     "data": {
      "application/vnd.jupyter.widget-view+json": {
       "model_id": "",
       "version_major": 2,
       "version_minor": 0
      },
      "text/plain": [
       "FloatProgress(value=0.0, bar_style='info', description='Progress:', layout=Layout(height='25px', width='50%'),…"
      ]
     },
     "metadata": {},
     "output_type": "display_data"
    },
    {
     "data": {
      "image/png": "[encoded data removed]",
      "text/plain": [
       "<IPython.core.display.Image object>"
      ]
     },
     "metadata": {},
     "output_type": "display_data"
    }
   ],
   "source": [
    "fig, axes = plt.subplots(2, 3, figsize=(15, 8), sharey=True, sharex=True, constrained_layout=True)\n",
    "    \n",
    "plot_lineplot(hail_daily, 'ZDAY', 'count', axes.flat[0], 'Date', 'Count', 'HAIL')\n",
    "plot_lineplot(tvs_daily, 'ZDAY', 'count', axes.flat[1], 'Date', 'Count', 'TVS')\n",
    "plot_lineplot(meso_daily, 'ZDAY', 'count', axes.flat[2], 'Date', 'Count', 'MESO')\n",
    "plot_lineplot(mda_daily, 'ZDAY', 'count', axes.flat[3], 'Date', 'Count', 'MDA')\n",
    "plot_lineplot(struc_daily, 'ZDAY', 'count', axes.flat[4], 'Date', 'Count', 'STRUCTURE')\n",
    "\n",
    "axes.flat[5].axis('off')\n",
    "\n",
    "plt.suptitle('Class frequency over time', fontsize=24)\n",
    "plt.tight_layout()\n",
    "\n",
    "fig.savefig('class-freq.png', dpi=200)\n",
    "\n",
    "%matplot plt"
   ]
  },
  {
   "cell_type": "markdown",
   "id": "ebbe01c0",
   "metadata": {},
   "source": [
    "### Average detection range of devices for phenomenon detection"
   ]
  },
  {
   "cell_type": "code",
   "execution_count": 14,
   "id": "c2888956",
   "metadata": {
    "execution": {
     "iopub.execute_input": "2023-06-09T13:09:36.692515Z",
     "iopub.status.busy": "2023-06-09T13:09:36.692280Z",
     "iopub.status.idle": "2023-06-09T13:09:36.736705Z",
     "shell.execute_reply": "2023-06-09T13:09:36.735841Z",
     "shell.execute_reply.started": "2023-06-09T13:09:36.692492Z"
    }
   },
   "outputs": [
    {
     "data": {
      "application/vnd.jupyter.widget-view+json": {
       "model_id": "5def8aa9b9e941e7a5810222b3a4461d",
       "version_major": 2,
       "version_minor": 0
      },
      "text/plain": [
       "VBox()"
      ]
     },
     "metadata": {},
     "output_type": "display_data"
    },
    {
     "data": {
      "application/vnd.jupyter.widget-view+json": {
       "model_id": "",
       "version_major": 2,
       "version_minor": 0
      },
      "text/plain": [
       "FloatProgress(value=0.0, bar_style='info', description='Progress:', layout=Layout(height='25px', width='50%'),…"
      ]
     },
     "metadata": {},
     "output_type": "display_data"
    }
   ],
   "source": [
    "def bar_plot_topn_bottn(dataframe, x_column, y_column, n, ax,  xlabel, title, bott=False):\n",
    "    if bott:\n",
    "        temp = dataframe.sort_values(y_column, ascending=True)\n",
    "        temp = temp.iloc[0:n].sort_values(y_column, ascending=True).copy()\n",
    "        color = '#ff3131'\n",
    "    else:\n",
    "        temp = dataframe.sort_values(y_column, ascending=False)\n",
    "        temp = temp.iloc[0:n].sort_values(y_column, ascending=True).copy()\n",
    "        color = '#0a86df'\n",
    "        \n",
    "    ax.barh(temp[x_column], temp[y_column], color=color)\n",
    "\n",
    "    ax.set_xlabel(xlabel)\n",
    "    ax.set_title(title)"
   ]
  },
  {
   "cell_type": "code",
   "execution_count": 15,
   "id": "92e9e21f",
   "metadata": {
    "execution": {
     "iopub.execute_input": "2023-06-09T13:09:36.738058Z",
     "iopub.status.busy": "2023-06-09T13:09:36.737747Z",
     "iopub.status.idle": "2023-06-09T13:21:30.110173Z",
     "shell.execute_reply": "2023-06-09T13:21:30.109303Z",
     "shell.execute_reply.started": "2023-06-09T13:09:36.738022Z"
    },
    "tags": []
   },
   "outputs": [
    {
     "data": {
      "application/vnd.jupyter.widget-view+json": {
       "model_id": "19c0a5f1529b47e7bc002e6aba8d1688",
       "version_major": 2,
       "version_minor": 0
      },
      "text/plain": [
       "VBox()"
      ]
     },
     "metadata": {},
     "output_type": "display_data"
    },
    {
     "data": {
      "application/vnd.jupyter.widget-view+json": {
       "model_id": "",
       "version_major": 2,
       "version_minor": 0
      },
      "text/plain": [
       "FloatProgress(value=0.0, bar_style='info', description='Progress:', layout=Layout(height='25px', width='50%'),…"
      ]
     },
     "metadata": {},
     "output_type": "display_data"
    }
   ],
   "source": [
    "hail_ave_range = hail.groupby('WSR_ID').agg(F.mean('RANGE').alias('AVG_RANGE')).toPandas()\n",
    "tvs_ave_range = tvs.groupby('WSR_ID').agg(F.mean('RANGE').alias('AVG_RANGE')).toPandas()\n",
    "meso_ave_range = meso.groupby('WSR_ID').agg(F.mean('RANGE').alias('AVG_RANGE')).toPandas()\n",
    "mda_ave_range = mda.groupby('WSR_ID').agg(F.mean('RANGE').alias('AVG_RANGE')).toPandas()\n",
    "struc_ave_range = structure.groupby('WSR_ID').agg(F.mean('RANGE').alias('AVG_RANGE')).toPandas()"
   ]
  },
  {
   "cell_type": "code",
   "execution_count": 16,
   "id": "1997ae17",
   "metadata": {
    "execution": {
     "iopub.execute_input": "2023-06-09T13:21:30.111687Z",
     "iopub.status.busy": "2023-06-09T13:21:30.111231Z",
     "iopub.status.idle": "2023-06-09T13:21:31.377910Z",
     "shell.execute_reply": "2023-06-09T13:21:31.377029Z",
     "shell.execute_reply.started": "2023-06-09T13:21:30.111658Z"
    }
   },
   "outputs": [
    {
     "data": {
      "application/vnd.jupyter.widget-view+json": {
       "model_id": "7ec7c354e2584d92aeb6265e5db65ab0",
       "version_major": 2,
       "version_minor": 0
      },
      "text/plain": [
       "VBox()"
      ]
     },
     "metadata": {},
     "output_type": "display_data"
    },
    {
     "data": {
      "application/vnd.jupyter.widget-view+json": {
       "model_id": "",
       "version_major": 2,
       "version_minor": 0
      },
      "text/plain": [
       "FloatProgress(value=0.0, bar_style='info', description='Progress:', layout=Layout(height='25px', width='50%'),…"
      ]
     },
     "metadata": {},
     "output_type": "display_data"
    },
    {
     "data": {
      "image/png": "[encoded data removed]",
      "text/plain": [
       "<IPython.core.display.Image object>"
      ]
     },
     "metadata": {},
     "output_type": "display_data"
    }
   ],
   "source": [
    "fig, axes = plt.subplots(2, 5, figsize=(15, 8), sharex=True, constrained_layout=True)\n",
    "\n",
    "bar_plot_topn_bottn(hail_ave_range, 'WSR_ID', 'AVG_RANGE', 5, axes.flat[0],  'AVG_RANGE', 'TOP 5 - HAIL', bott=False)\n",
    "bar_plot_topn_bottn(hail_ave_range, 'WSR_ID', 'AVG_RANGE', 5, axes.flat[5],  'AVG_RANGE', 'BOTTOM 5 - HAIL', bott=True)\n",
    "\n",
    "bar_plot_topn_bottn(tvs_ave_range, 'WSR_ID', 'AVG_RANGE', 5, axes.flat[1],  'AVG_RANGE', 'TOP 5 - TVS', bott=False)\n",
    "bar_plot_topn_bottn(tvs_ave_range, 'WSR_ID', 'AVG_RANGE', 5, axes.flat[6],  'AVG_RANGE', 'BOTTOM 5 - TVS', bott=True)\n",
    "\n",
    "bar_plot_topn_bottn(meso_ave_range, 'WSR_ID', 'AVG_RANGE', 5, axes.flat[2],  'AVG_RANGE', 'TOP 5 - MESO', bott=False)\n",
    "bar_plot_topn_bottn(meso_ave_range, 'WSR_ID', 'AVG_RANGE', 5, axes.flat[7],  'AVG_RANGE', 'BOTTOM 5 - MESO', bott=True)\n",
    "\n",
    "bar_plot_topn_bottn(mda_ave_range, 'WSR_ID', 'AVG_RANGE', 5, axes.flat[3],  'AVG_RANGE', 'TOP 5 - MDA', bott=False)\n",
    "bar_plot_topn_bottn(mda_ave_range, 'WSR_ID', 'AVG_RANGE', 5, axes.flat[8],  'AVG_RANGE', 'BOTTOM 5 - MDA', bott=True)\n",
    "\n",
    "bar_plot_topn_bottn(struc_ave_range, 'WSR_ID', 'AVG_RANGE', 5, axes.flat[4],  'AVG_RANGE', 'TOP 5 - STRUCTURE', bott=False)\n",
    "bar_plot_topn_bottn(struc_ave_range, 'WSR_ID', 'AVG_RANGE', 5, axes.flat[9],  'AVG_RANGE', 'BOTTOM 5 - STRUCTURE', bott=True)\n",
    "\n",
    "plt.suptitle('Average Range of Devices', fontsize=24)\n",
    "plt.tight_layout()\n",
    "\n",
    "fig.savefig('top-bott-wsrid-range.png', dpi=200)\n",
    "\n",
    "%matplot plt"
   ]
  }
 ],
 "metadata": {
  "kernelspec": {
   "display_name": "PySpark",
   "language": "python",
   "name": "pysparkkernel"
  },
  "language_info": {
   "codemirror_mode": {
    "name": "python",
    "version": 3
   },
   "file_extension": ".py",
   "mimetype": "text/x-python",
   "name": "pyspark",
   "pygments_lexer": "python3"
  },
  "toc": {
   "base_numbering": 1,
   "nav_menu": {},
   "number_sections": true,
   "sideBar": true,
   "skip_h1_title": false,
   "title_cell": "Table of Contents",
   "title_sidebar": "Contents",
   "toc_cell": false,
   "toc_position": {},
   "toc_section_display": true,
   "toc_window_display": false
  }
 },
 "nbformat": 4,
 "nbformat_minor": 5
}
